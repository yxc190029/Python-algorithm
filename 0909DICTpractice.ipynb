{
 "cells": [
  {
   "cell_type": "code",
   "execution_count": 69,
   "metadata": {},
   "outputs": [
    {
     "name": "stdout",
     "output_type": "stream",
     "text": [
      "幾個資料組3\n",
      "ticker\n",
      "\n",
      "ticker\n",
      "\n",
      "ticker\n",
      "\n"
     ]
    },
    {
     "ename": "IndexError",
     "evalue": "list index out of range",
     "output_type": "error",
     "traceback": [
      "\u001b[0;31m---------------------------------------------------------------------------\u001b[0m",
      "\u001b[0;31mIndexError\u001b[0m                                Traceback (most recent call last)",
      "\u001b[0;32m<ipython-input-69-7f66f6c34171>\u001b[0m in \u001b[0;36m<module>\u001b[0;34m\u001b[0m\n\u001b[1;32m     10\u001b[0m     \u001b[0mvalue_list\u001b[0m\u001b[0;34m.\u001b[0m\u001b[0mappend\u001b[0m\u001b[0;34m(\u001b[0m\u001b[0ma\u001b[0m\u001b[0;34m)\u001b[0m\u001b[0;34m\u001b[0m\u001b[0;34m\u001b[0m\u001b[0m\n\u001b[1;32m     11\u001b[0m \u001b[0;32mfor\u001b[0m \u001b[0mj\u001b[0m \u001b[0;32min\u001b[0m \u001b[0mvalue_list\u001b[0m\u001b[0;34m:\u001b[0m\u001b[0;34m\u001b[0m\u001b[0;34m\u001b[0m\u001b[0m\n\u001b[0;32m---> 12\u001b[0;31m     \u001b[0mjx\u001b[0m \u001b[0;34m=\u001b[0m \u001b[0;34m\"{} : {}\"\u001b[0m\u001b[0;34m.\u001b[0m\u001b[0mformat\u001b[0m\u001b[0;34m(\u001b[0m\u001b[0mj\u001b[0m\u001b[0;34m[\u001b[0m\u001b[0;36m0\u001b[0m\u001b[0;34m]\u001b[0m\u001b[0;34m,\u001b[0m\u001b[0mj\u001b[0m\u001b[0;34m[\u001b[0m\u001b[0;36m1\u001b[0m\u001b[0;34m]\u001b[0m\u001b[0;34m)\u001b[0m\u001b[0;34m\u001b[0m\u001b[0;34m\u001b[0m\u001b[0m\n\u001b[0m\u001b[1;32m     13\u001b[0m     \u001b[0mdict_a\u001b[0m\u001b[0;34m[\u001b[0m\u001b[0mj\u001b[0m\u001b[0;34m[\u001b[0m\u001b[0;36m2\u001b[0m\u001b[0;34m]\u001b[0m\u001b[0;34m]\u001b[0m \u001b[0;34m=\u001b[0m \u001b[0mjx\u001b[0m\u001b[0;34m\u001b[0m\u001b[0;34m\u001b[0m\u001b[0m\n\u001b[1;32m     14\u001b[0m     \u001b[0mva2\u001b[0m\u001b[0;34m.\u001b[0m\u001b[0mappend\u001b[0m\u001b[0;34m(\u001b[0m\u001b[0mjx\u001b[0m\u001b[0;34m)\u001b[0m\u001b[0;34m\u001b[0m\u001b[0;34m\u001b[0m\u001b[0m\n",
      "\u001b[0;31mIndexError\u001b[0m: list index out of range"
     ]
    }
   ],
   "source": [
    "dict_a = {}\n",
    "value_list = []\n",
    "va2 = []\n",
    "va3 = []\n",
    "key_in_dicts=[]\n",
    "times = int(input(\"幾個資料組\"))\n",
    "#想跑數字內的次數,不能直接叫要用range\n",
    "for i in range(times):\n",
    "    a = input(\"ticker\\n\").split(\" \")\n",
    "    value_list.append(a)\n",
    "for j in value_list:\n",
    "    jx = \"{} : {}\".format(j[0],j[1])\n",
    "    dict_a[j[2]] = jx\n",
    "    va2.append(jx)\n",
    "    va3.append(j[2])\n",
    "#在寫一個key的清單\n",
    "for k in dict_a.values():\n",
    "    \n",
    "    if va2.count(k) > 1:\n",
    "        while True:\n",
    "            try:\n",
    "                keys_in_dict1 = list(dict_a)[va2.index(k)]\n",
    "                #刪掉第一個重複的, 再找下一個k\n",
    "                #va2的value位置,剛好是dict_a 的key的位置\n",
    "                #如果把字典轉換成list,則字典會變成全部都是key的list!!!\n",
    "                va2.remove(k)\n",
    "                key_in_dict2 = list(dict_a)[va2.index(k)]\n",
    "            except: \n",
    "\n",
    "                break\n",
    "        \n",
    "#def 裡才用 return    \n",
    "        print(\"{} is present in both {} and {}\".format(k, keys_in_dict1 , key_in_dict2))\n",
    "\n",
    "    else:\n",
    "        print(va2.count(k))\n",
    "        print(\"no duplicated\")\n",
    "    \n",
    "\n",
    "\n",
    " \n",
    "    \n",
    "#------------------------------------\n",
    "\n",
    "#頭是位置,尾+1\n",
    "\n",
    "    "
   ]
  },
  {
   "cell_type": "code",
   "execution_count": 67,
   "metadata": {},
   "outputs": [
    {
     "data": {
      "text/plain": [
       "{'p': 'key : 1', 'q': 'key : 0'}"
      ]
     },
     "execution_count": 67,
     "metadata": {},
     "output_type": "execute_result"
    }
   ],
   "source": [
    "dict_a"
   ]
  },
  {
   "cell_type": "code",
   "execution_count": 119,
   "metadata": {},
   "outputs": [
    {
     "ename": "TypeError",
     "evalue": "can only concatenate str (not \"int\") to str",
     "output_type": "error",
     "traceback": [
      "\u001b[0;31m---------------------------------------------------------------------------\u001b[0m",
      "\u001b[0;31mTypeError\u001b[0m                                 Traceback (most recent call last)",
      "\u001b[0;32m<ipython-input-119-37beb9b11c1a>\u001b[0m in \u001b[0;36m<module>\u001b[0;34m\u001b[0m\n\u001b[1;32m      1\u001b[0m \u001b[0;32mfor\u001b[0m \u001b[0mi\u001b[0m \u001b[0;32min\u001b[0m \u001b[0mdict_a\u001b[0m\u001b[0;34m.\u001b[0m\u001b[0mvalues\u001b[0m\u001b[0;34m(\u001b[0m\u001b[0;34m)\u001b[0m\u001b[0;34m:\u001b[0m\u001b[0;34m\u001b[0m\u001b[0;34m\u001b[0m\u001b[0m\n\u001b[0;32m----> 2\u001b[0;31m      \u001b[0;32mif\u001b[0m \u001b[0mi\u001b[0m \u001b[0;34m==\u001b[0m \u001b[0mi\u001b[0m\u001b[0;34m+\u001b[0m\u001b[0;36m1\u001b[0m\u001b[0;34m:\u001b[0m\u001b[0;34m\u001b[0m\u001b[0;34m\u001b[0m\u001b[0m\n\u001b[0m\u001b[1;32m      3\u001b[0m         \u001b[0mprint\u001b[0m\u001b[0;34m(\u001b[0m\u001b[0;34m\"抓到\"\u001b[0m\u001b[0;34m)\u001b[0m\u001b[0;34m\u001b[0m\u001b[0;34m\u001b[0m\u001b[0m\n",
      "\u001b[0;31mTypeError\u001b[0m: can only concatenate str (not \"int\") to str"
     ]
    }
   ],
   "source": [
    "list2=[]\n",
    "key_dict= dict_a.keys()\n",
    "value_dict1 = dict_a.values()\n",
    "j=len(dict_a)\n",
    "z=1\n",
    "for i in key_dict:\n",
    "    if i == key_dict:\n",
    "        \n",
    "        list2.append(i)\n",
    "        list2.append(value_dict1[z])\n",
    "        \n",
    "        print(\"{} is present in both {} and {}\".format(i,value_dict1[i],value_dict1[z])\n",
    "    if i not in dict_a.keys():\n",
    "        print(\"沒事\")\n",
    "    \n",
    "\n",
    "        \n"
   ]
  },
  {
   "cell_type": "code",
   "execution_count": null,
   "metadata": {},
   "outputs": [],
   "source": [
    "for i in value_list:\n",
    "    key = value_list\n",
    "    dict_a.update(value.list)\n",
    "#怎麼在迴圈內指定位置？\n",
    "#在物件的迴圈, if a == a+1 怎表示？ \n",
    "print(value_list)\n",
    "for j in value_list:\n",
    "    dict_a.update([j:],)\n"
   ]
  },
  {
   "cell_type": "code",
   "execution_count": null,
   "metadata": {},
   "outputs": [],
   "source": [
    "dict_a={}\n",
    "value_list=[]\n",
    "va2=[]\n",
    "times=int(input(\"幾個資料組\"))\n",
    "#想跑數字內的次數,不能直接叫要用range\n",
    "for i in range(times):\n",
    "    a = input(\"ticker\\n\").split(\" \")\n",
    "    for i in a:\n",
    "        value_list.append(i)\n",
    "print(value_list)\n",
    "#切碎碎的放入list要雙迴圈\n",
    "\n",
    "for k in range(0,len(value_list),2):\n",
    "    j = len(value_list)\n",
    "    va2= value_list[k]+value_list[k+1]\n",
    "    value_list[k+2]va2[1:len(va2)])\n",
    "    \n",
    "    \n",
    "#頭是位置,尾+1\n",
    "\n",
    "    "
   ]
  },
  {
   "cell_type": "code",
   "execution_count": 112,
   "metadata": {},
   "outputs": [
    {
     "name": "stdout",
     "output_type": "stream",
     "text": [
      "['p', 'o', '4', 'p', 'o', '3']\n",
      "{'brand': 'Ford', 'model': 'Mustang', 'year': 1964, 'color': ['p', 'o', '4']}\n"
     ]
    }
   ],
   "source": [
    "thisdict =\t{\n",
    "  \"brand\": \"Ford\",\n",
    "  \"model\": \"Mustang\",\n",
    "  \"year\": 1964\n",
    "}\n",
    "l=value_list[0] + value_list[1]\n",
    "print(l)\n",
    "thisdict[\"color\"] = value_list[0]\n",
    "print(thisdict)"
   ]
  },
  {
   "cell_type": "code",
   "execution_count": 14,
   "metadata": {},
   "outputs": [
    {
     "name": "stdout",
     "output_type": "stream",
     "text": [
      "{0: {'h': 88}}\n"
     ]
    }
   ],
   "source": [
    "l=[(0,{'h':88})]\n",
    "a={}\n",
    "a.update(l)\n",
    "print(a)"
   ]
  },
  {
   "cell_type": "code",
   "execution_count": 7,
   "metadata": {},
   "outputs": [
    {
     "name": "stdout",
     "output_type": "stream",
     "text": [
      "小萌\n",
      "小智\n",
      "小强\n",
      "小明\n"
     ]
    }
   ],
   "source": [
    "student = {'小萌': '1001', '小智': '1002', '小强': '1003', '小明': '1004'}\n",
    "cool = []\n",
    "for i in student.items():\n",
    "    print(i[0])\n",
    "    #cool[\"QQ\"] = student(\"小智\")\n",
    "# list (student.keys()) [list (student.values()).index ('1004')]\n",
    "\n",
    "# print(list(student))\n",
    "\n",
    "#把字典list化 後,再來遍尋原本的key\n",
    "#index 是指出位置"
   ]
  },
  {
   "cell_type": "code",
   "execution_count": 5,
   "metadata": {},
   "outputs": [
    {
     "name": "stdout",
     "output_type": "stream",
     "text": [
      "{'p': {'key': '0'}}\n",
      "{'p': {'key': '0'}, 'q': {'key': '0'}}\n",
      "{'p': {'key': '1'}, 'q': {'key': '0'}}\n",
      "{'key': '0'} is present in both p and p\n"
     ]
    }
   ],
   "source": [
    "dict_a = {}\n",
    "jx = {}\n",
    "value_list = []\n",
    "va2 = []\n",
    "va3 = []\n",
    "key_in_dicts=[]\n",
    "times = 3\n",
    "a = [[\"key\", \"0\", \"p\"],[\"key\", \"0\", \"q\"], [\"key\", \"1\", \"p\"]]\n",
    "\n",
    "for j in a:\n",
    "    jx = {j[0]:j[1]}\n",
    "    dict_a [j[2]] = jx\n",
    "    print(dict_a)\n",
    "    va2.append(jx)\n",
    "    va3.append(j[2])\n",
    "#write a dictionary to check duplicate\n",
    "for k in va2:\n",
    "    if va2.count(k) > 1:\n",
    "        while True:\n",
    "            try:\n",
    "                keys_in_dict1 =list(dict_a)[va2.index(k)]\n",
    "                #delete first item we found, and search for its duplicate\n",
    "                va2.remove(k)\n",
    "                key_in_dict2 = list(dict_a)[va2.index(k)]\n",
    "\n",
    "            except: \n",
    "\n",
    "                break\n",
    "        \n",
    "    \n",
    "        print(\"{} is present in both {} and {}\".format(k, keys_in_dict1 , key_in_dict2))\n",
    "\n",
    "    else:\n",
    "        print(va2.count(k))\n",
    "        print(\"no duplicated\")\n",
    "    \n",
    "\n",
    "\n",
    " \n",
    "    \n",
    "#------------------------------------\n",
    "\n",
    "#頭是位置,尾+1\n",
    "\n",
    "    "
   ]
  },
  {
   "cell_type": "code",
   "execution_count": 21,
   "metadata": {},
   "outputs": [
    {
     "ename": "ValueError",
     "evalue": "'key : 0' is not in list",
     "output_type": "error",
     "traceback": [
      "\u001b[0;31m---------------------------------------------------------------------------\u001b[0m",
      "\u001b[0;31mValueError\u001b[0m                                Traceback (most recent call last)",
      "\u001b[0;32m<ipython-input-21-ef1c3f5d1f1d>\u001b[0m in \u001b[0;36m<module>\u001b[0;34m\u001b[0m\n\u001b[0;32m----> 1\u001b[0;31m \u001b[0mva2\u001b[0m\u001b[0;34m.\u001b[0m\u001b[0mindex\u001b[0m\u001b[0;34m(\u001b[0m\u001b[0mk\u001b[0m\u001b[0;34m)\u001b[0m\u001b[0;34m\u001b[0m\u001b[0;34m\u001b[0m\u001b[0m\n\u001b[0m",
      "\u001b[0;31mValueError\u001b[0m: 'key : 0' is not in list"
     ]
    }
   ],
   "source": [
    "va2.index(k)"
   ]
  },
  {
   "cell_type": "code",
   "execution_count": null,
   "metadata": {},
   "outputs": [],
   "source": [
    "def catch_all(*args, **kwargs):\n",
    "    print(\"args =\", args)\n",
    "    print(\"kwargs = \", kwargs)"
   ]
  },
  {
   "cell_type": "code",
   "execution_count": null,
   "metadata": {},
   "outputs": [],
   "source": []
  }
 ],
 "metadata": {
  "kernelspec": {
   "display_name": "Python 3",
   "language": "python",
   "name": "python3"
  },
  "language_info": {
   "codemirror_mode": {
    "name": "ipython",
    "version": 3
   },
   "file_extension": ".py",
   "mimetype": "text/x-python",
   "name": "python",
   "nbconvert_exporter": "python",
   "pygments_lexer": "ipython3",
   "version": "3.7.3"
  }
 },
 "nbformat": 4,
 "nbformat_minor": 2
}
