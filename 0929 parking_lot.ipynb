{
 "cells": [
  {
   "cell_type": "code",
   "execution_count": 40,
   "metadata": {},
   "outputs": [
    {
     "name": "stdout",
     "output_type": "stream",
     "text": [
      "7:10 7:20\n",
      "10\n",
      "0\n"
     ]
    }
   ],
   "source": [
    "#停車\n",
    "time_cost = input().split(\" \")\n",
    "\n",
    "time_in = time_cost[0].split(\":\")\n",
    "#透過list 指定位置叫出來的是str,可用split\n",
    "time_out = time_cost[1].split(\":\")\n",
    "\n",
    "\n",
    "time_in = list(map(int,time_in))\n",
    "time_out = list(map(int,time_out))\n",
    "total_time = (time_out[0]*60 + time_out[1]) - (time_in[0]*60 + time_in[1])  \n",
    "\n",
    "if total_time <= 30:\n",
    "    fee = 0\n",
    "    print(fee)\n",
    "elif total_time >30 and total_time <= 60 :\n",
    "    fee = 30\n",
    "    print(fee)\n",
    "elif total_time >60 and total_time <= 120  :\n",
    "    \n",
    "    fee = 60\n",
    "    print(fee)\n",
    "    \n",
    "else:\n",
    "    fee = 120\n",
    "    print(fee)"
   ]
  },
  {
   "cell_type": "code",
   "execution_count": null,
   "metadata": {},
   "outputs": [],
   "source": [
    "# 1.前 30 分(含)鐘免費。\n",
    "\n",
    "2.停車 31 ~ 60 分鐘 30 元。\n",
    "\n",
    "3.停車 61 ~ 120 分鐘 60 元。\n",
    "\n",
    "4.超過120分鐘均為120元。"
   ]
  }
 ],
 "metadata": {
  "kernelspec": {
   "display_name": "Python 3",
   "language": "python",
   "name": "python3"
  },
  "language_info": {
   "codemirror_mode": {
    "name": "ipython",
    "version": 3
   },
   "file_extension": ".py",
   "mimetype": "text/x-python",
   "name": "python",
   "nbconvert_exporter": "python",
   "pygments_lexer": "ipython3",
   "version": "3.7.3"
  }
 },
 "nbformat": 4,
 "nbformat_minor": 2
}
