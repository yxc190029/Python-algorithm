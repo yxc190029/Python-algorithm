{
 "cells": [
  {
   "cell_type": "code",
   "execution_count": null,
   "metadata": {},
   "outputs": [],
   "source": [
    "#預期\n",
    "{'p': {'key': '0'}, 'q': {'key': '0'},'p': {'key': '1'} }\n",
    "#現在的\n",
    "{'p': {'key': '1'}, 'q': {'key': '0'}}\n",
    "\n",
    "\n",
    "{'p': [{'key': '0'}, {'key': '1'}], 'q': [{'key':'0'}]}\n",
    "\n",
    "val = dictw.values(watch)\n",
    "c= []\n",
    "for i in val:\n",
    "    \n",
    "[see (v), on hand (n), def3(ａｄｖ)]\n"
   ]
  },
  {
   "cell_type": "code",
   "execution_count": 6,
   "metadata": {},
   "outputs": [
    {
     "name": "stdout",
     "output_type": "stream",
     "text": [
      "{'p': [{'key': '0'}]}\n",
      "{'p': [{'key': '0'}], 'q': [{'key': '0'}]}\n",
      "{'p': [{'key': '0'}, {'key': '1'}], 'q': [{'key': '0'}]}\n",
      "{'p': [{'key': '0'}, {'key': '1'}], 'q': [{'key': '0'}]}\n"
     ]
    }
   ],
   "source": [
    "dict_a = {}\n",
    "value_list = []\n",
    "va2 = []\n",
    "va3 = []\n",
    "key_in_dicts=[]\n",
    "times = 3\n",
    "a = [[\"key\", \"0\", \"p\"],[\"key\", \"0\", \"q\"], [\"key\", \"1\", \"p\"]]\n",
    "\n",
    "for j in a:\n",
    "    jx = [{j[0]:j[1]}]\n",
    "    \n",
    "    if j[2] in dict_a.keys():\n",
    "        dict_a[j[2]] += jx\n",
    "        #會都在同一個[]\n",
    "        print(dict_a)\n",
    "    else:\n",
    "        dict_a[j[2]] = jx\n",
    "    va2.append(jx)\n",
    "    va3.append(j[2])\n",
    "#write a dictionary to check duplicate\n",
    "for k in dict_a.values():\n",
    "    \n",
    "    if k\n",
    "#     if va2.count(k) > 1:\n",
    "#         while True:\n",
    "#             try:\n",
    "                \n",
    "#                 #delete first item we found, and search for its duplicate\n",
    "#                 #make dict into list will show keys\n",
    "#                 va2.remove(k)\n",
    "#                 key_in_dict2 = list(dict_a)[va2.index(k)]\n",
    "\n",
    "#             except: \n",
    "\n",
    "#                 break\n",
    "        \n",
    "    \n",
    "#         print(\"{} is present in both {} and {}\".format(k, keys_in_dict1 , key_in_dict2))\n",
    "\n",
    "#     else:\n",
    "#         print(va2.count(k))\n",
    "#         print(\"no duplicated\")\n",
    "    "
   ]
  },
  {
   "cell_type": "code",
   "execution_count": 7,
   "metadata": {},
   "outputs": [
    {
     "name": "stdout",
     "output_type": "stream",
     "text": [
      "['a', 'b', 'c']\n"
     ]
    }
   ],
   "source": [
    "#remove duplicate\n",
    "mylist = [\"a\", \"b\", \"a\", \"c\", \"c\"]\n",
    "mylist = list(dict.fromkeys(mylist))\n",
    "print(mylist)"
   ]
  },
  {
   "cell_type": "code",
   "execution_count": 5,
   "metadata": {},
   "outputs": [
    {
     "name": "stdout",
     "output_type": "stream",
     "text": [
      "[{'key': '0'}, {'key': '1'}]\n",
      "<class 'list'>\n",
      "[{'key': '0'}]\n",
      "<class 'list'>\n"
     ]
    }
   ],
   "source": [
    "dict_a = {}\n",
    "value_list = []\n",
    "va2 = []\n",
    "va3 = []\n",
    "key_in_dicts=[]\n",
    "times = 3\n",
    "a = [[\"key\", \"0\", \"p\"],[\"key\", \"0\", \"q\"], [\"key\", \"1\", \"p\"]]\n",
    "\n",
    "for j in a:\n",
    "    jx = [{j[0]:j[1]}]\n",
    "    \n",
    "    if j[2] in dict_a.keys():\n",
    "        dict_a[j[2]] += jx\n",
    "        #會都在同一個[]\n",
    "        #print(dict_a)\n",
    "    else:\n",
    "        dict_a[j[2]] = jx\n",
    "    va2.append(jx)\n",
    "    va3.append(j[2])\n",
    "for k in dict_a.values():\n",
    "    print(k)\n",
    "    if k>1:\n",
    "        saveone = k\n",
    "                \n",
    "        "
   ]
  },
  {
   "cell_type": "code",
   "execution_count": null,
   "metadata": {},
   "outputs": [],
   "source": []
  }
 ],
 "metadata": {
  "kernelspec": {
   "display_name": "Python 3",
   "language": "python",
   "name": "python3"
  },
  "language_info": {
   "codemirror_mode": {
    "name": "ipython",
    "version": 3
   },
   "file_extension": ".py",
   "mimetype": "text/x-python",
   "name": "python",
   "nbconvert_exporter": "python",
   "pygments_lexer": "ipython3",
   "version": "3.7.3"
  }
 },
 "nbformat": 4,
 "nbformat_minor": 2
}
