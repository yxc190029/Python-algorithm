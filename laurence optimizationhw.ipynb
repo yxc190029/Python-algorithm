{
 "cells": [
  {
   "cell_type": "code",
   "execution_count": 7,
   "metadata": {},
   "outputs": [
    {
     "name": "stdout",
     "output_type": "stream",
     "text": [
      "please enter \"none \" on the variables you want to ask\n",
      "0.04631046419715257\n",
      "please enter \"none \" on the variables you want to ask\n",
      "33.56\n",
      "please enter \"none \" on the variables you want to ask\n",
      "138954728.71\n",
      "please enter \"none \" on the variables you want to ask\n",
      "16340.99\n",
      "please enter \"none \" on the variables you want to ask\n",
      "19803.93\n",
      "please enter \"none \" on the variables you want to ask\n",
      "0.0855399886092596\n",
      "please enter \"none \" on the variables you want to ask\n",
      "17694002.20\n",
      "please enter \"none \" on the variables you want to ask\n",
      "-0.04492191272169277\n",
      "-0.045\n",
      "please enter \"none \" on the variables you want to ask\n",
      "56204.87\n",
      "please enter \"none \" on the variables you want to ask\n",
      "28841.99\n",
      "please enter \"none \" on the variables you want to ask\n",
      "42846.21\n",
      "please enter \"none \" on the variables you want to ask\n",
      "21.83\n"
     ]
    },
    {
     "data": {
      "text/plain": [
       "0.12"
      ]
     },
     "execution_count": 7,
     "metadata": {},
     "output_type": "execute_result"
    }
   ],
   "source": [
    "import math\n",
    "\n",
    "def TVM(PV,FV,i,n,t):\n",
    "    #i = annual interst rate\n",
    "    #n = times of compound in a year\n",
    "    #t= total period\n",
    "    print(\"please enter \\\"none \\\" on the variables you want to ask\")\n",
    "    if  t == None:\n",
    "        t = math.log(FV/PV)/(n*(math.log(1+i/n)))\n",
    "        print(\"{:.2f}\".format(t))\n",
    "    if FV == None:\n",
    "        FV = PV *( 1 + (i / n) )** (n * t)\n",
    "        print(\"{:.2f}\".format(FV))\n",
    "    if PV == None:\n",
    "        PV = FV/( 1 + (i / n) )** (n * t)\n",
    "        print(\"{:.2f}\".format(PV))\n",
    "    if i == None:\n",
    "        i=n*(math.exp(math.log(FV/PV)/(n*t))-1)\n",
    "        print(\"{}\".format(i))\n",
    "    return i\n",
    "        \n",
    "                    \n",
    "#9\n",
    "TVM(21308,27958,None,1,6)\n",
    "#10\n",
    "TVM(35000,180000,0.05,1,None)\n",
    "#11\n",
    "TVM(None,650000000,0.095,1,17)\n",
    "#12\n",
    "TVM(None,4500000,0.08,1,73)\n",
    "#13\n",
    "TVM(55,None,0.07,1,87)\n",
    "#14\n",
    "#(a)\n",
    "i = TVM(120,1179000,None,1,112)\n",
    "#(b)\n",
    "TVM(1179000,None,i,1,33)\n",
    "#15\n",
    "\n",
    "i = TVM(12385500,10305500,None,1,4)\n",
    "print(\"{:.3f}\".format(i))\n",
    "#16\n",
    "#(a)\n",
    "TVM(2000,None,0.1,1,35)\n",
    "#(b)\n",
    "TVM(2000,None,0.1,1,28)\n",
    "#17\n",
    "TVM(29000,None,0.05,1,8)\n",
    "#18\n",
    "def TVM2(PV,FV,i,n,t):\n",
    "    print(\"please enter \\\"none \\\" on the variables you want to ask\")\n",
    "    if  t == None:\n",
    "        t = math.log(FV/PV)/(n*(math.log(1+i/n)))\n",
    "        print(\"{}\".format(t))\n",
    "    if FV == None:\n",
    "        FV = PV *( 1 + (i / n) )** (n * t)\n",
    "        print(\"{:.2f}\".format(FV))\n",
    "    if PV == None:\n",
    "        PV = FV/( 1 + (i / n) )** (n * t)\n",
    "        print(\"{:.2f}\".format(PV))\n",
    "    if i == None:\n",
    "        i=n*(math.exp(math.log(FV/PV)/(n*t))-1)\n",
    "        print(\"{.2f}\".format(i))\n",
    "    return i\n",
    "TVM(8000,95000,0.12,1,None)\n",
    "#"
   ]
  },
  {
   "cell_type": "code",
   "execution_count": null,
   "metadata": {},
   "outputs": [],
   "source": [
    "FV=27958\n",
    "PV=21308\n",
    "n=1\n",
    "FV = PV *( 1 + (i / n) )** (n * t)\n",
    "\n"
   ]
  },
  {
   "cell_type": "code",
   "execution_count": null,
   "metadata": {},
   "outputs": [],
   "source": []
  },
  {
   "cell_type": "code",
   "execution_count": null,
   "metadata": {},
   "outputs": [],
   "source": []
  },
  {
   "cell_type": "code",
   "execution_count": 26,
   "metadata": {},
   "outputs": [
    {
     "name": "stdout",
     "output_type": "stream",
     "text": [
      "ok\n",
      "5\n",
      "0\n",
      "{'PV': [0], 'FV': 1, 'I': 2, 'n': 3, 't': 4.1}\n",
      "ok\n",
      "0.1\n",
      "ok\n",
      "2\n",
      "ok\n",
      "14.21\n"
     ]
    }
   ],
   "source": [
    "\n",
    "5,20,0.1,2,14.21\n",
    "def TVM_FV(PV,FV,I,n,t =0):\n",
    "    list_check=[PV,FV,I,n,t]\n",
    "    \n",
    "    for i in list_check:\n",
    "        if i==0:\n",
    "            print(i)\n",
    "            list_check.index(0)\n",
    "            print(dict1)\n",
    "        else:\n",
    "            print(\"ok\")\n",
    "            print(i)\n",
    "    \n",
    "TVM_FV(5,0,0.1,2,14.21)\n",
    "\n",
    "#判別式,回傳判斷到的結果\n"
   ]
  },
  {
   "cell_type": "code",
   "execution_count": 67,
   "metadata": {},
   "outputs": [
    {
     "name": "stdout",
     "output_type": "stream",
     "text": [
      "5\n"
     ]
    }
   ],
   "source": [
    "i = None\n",
    "i= 5\n",
    "print(i)"
   ]
  },
  {
   "cell_type": "code",
   "execution_count": null,
   "metadata": {},
   "outputs": [],
   "source": []
  }
 ],
 "metadata": {
  "kernelspec": {
   "display_name": "Python 3",
   "language": "python",
   "name": "python3"
  },
  "language_info": {
   "codemirror_mode": {
    "name": "ipython",
    "version": 3
   },
   "file_extension": ".py",
   "mimetype": "text/x-python",
   "name": "python",
   "nbconvert_exporter": "python",
   "pygments_lexer": "ipython3",
   "version": "3.7.3"
  }
 },
 "nbformat": 4,
 "nbformat_minor": 2
}
