{
 "cells": [
  {
   "cell_type": "code",
   "execution_count": null,
   "metadata": {},
   "outputs": [],
   "source": [
    "# 身處在今日的資訊時代，資訊安全成為各企業、政府機構甚至每個人的重要課題。事實上，一般人對資訊安全意識的缺乏仍然是一項主要的安全漏洞，特別是大家容易刻板地以為具備了強力的資訊安全軟體保護就能夠萬無一失。鬆懈的態度使員工的人為疏失反而更容易成為企業資訊系統的致命傷。這就好像花錢買了昂貴的保險櫃，卻因為沒有更改保險櫃的預設密碼，反而被輕易地破解一樣。\n",
    "\n",
    "個人密碼設定就是一項最基本，卻又最常被忽略的工作之一。沒有資訊安全意識的人總是忽略了要定期更改密碼的規定，並且使用較容易被破解的密碼，例如使用一個有意義的簡單英文單字，或是個人的生日、電話號碼等當作重要的個人密碼。\n",
    "\n",
    "現在的你將扮演一位在大企業資訊安全部門工作的程式設計師，請參考以下的檢查流程，幫忙撰寫一個能夠檢查密碼是否夠安全的程式：\n",
    "\n",
    "1.檢查使用者輸入的兩行密碼是否相同 (為了防止在設定密碼過程中不小心打錯某個字，慣例上，系統會要求使用者連續輸入兩次欲設定的密碼)。如果沒有，請輸出：「Password settings are not consistent.」\n",
    "\n",
    "2.檢查使用者輸入的密碼長度是否介於8到12個字元。如果沒有，請輸出：「Password should contain 8 to 12 characters.」\n",
    "\n",
    "3.檢查使用者輸入的密碼是否包含至少1個大寫英文字。如果沒有，請輸出：「Password should contain at least one upper-case alphabetical character.」\n",
    "\n",
    "4.檢查使用者輸入的密碼是否包含至少1個小寫英文字。如果沒有，請輸出：「Password should contain at least one lower-case alphabetical character.」\n",
    "\n",
    "5.檢查使用者輸入的密碼是否包含至少1個數字。如果沒有，請輸出：「Password should contain at least one number.」\n",
    "\n",
    "6.檢查使用者輸入的密碼是否包含至少1個特殊符號。如果沒有，請輸出：「Password should contain at least one special character.」\n",
    "\n",
    "7.特殊符號只考慮以下33種：~!@#$%^&*()_+|`-={}[]:”;’<>?,./以及空白字元。\n",
    "\n",
    "8.檢查使用者輸入的密碼是否左右對稱，例如abcdedcba或qwerrewq即為對稱的密碼。如果密碼對稱，請輸出：「Symmetric password is not allowed.」\n",
    "\n",
    "9.檢查使用者輸入的密碼是否以3 ~ 6個字元的長度循環，例如abcabcabc以長度3循環。即使長度不為3 ~ 6的倍數亦要進行這項檢查，例如abcdeabcd也屬於循環密碼。如果密碼循環，請輸出：「Circular password is not allowed.」\n",
    "\n",
    "請試著建立一個檢查函式:pass_checker()，並按照以上順序進行檢查，只要不符合任何一條規則，請輸出訊息並結束檢查。如果通過以上規則的測試，請輸出「Password is valid.」"
   ]
  },
  {
   "cell_type": "code",
   "execution_count": 29,
   "metadata": {},
   "outputs": [],
   "source": [
    "def pass_checker():\n",
    "    while True:    \n",
    "        dict_a ={}\n",
    "        dict_a[0] = input()\n",
    "        dict_a[1] = input()\n",
    "        count = 0 \n",
    "        count1= 0\n",
    "        if dict_a[0] and dict_a[1] == \"END\":\n",
    "            break\n",
    "        elif dict_a[0] != dict_a[1]:\n",
    "            print(\"「Password settings are not consistent.」\")\n",
    "            if len(dict_a[0]) < 8 or len(dict_a[1]) >12:\n",
    "                print(\"「Password should contain 8 to 12 characters.」\")\n",
    "                for i in dict_a[0]:\n",
    "                    if i.isupper() == True:\n",
    "                        count+=1\n",
    "                if count == 0:\n",
    "                    print(\"「Password should contain at least one upper-case alphabetical character.」\")  \n",
    "                elif count == len(dict_[0]):\n",
    "                    print(\"「Password should contain at least one lower-case alphabetical character.」\")  \n",
    "                    if dict_a[0].isdigit() == 0:\n",
    "                        print(\"「Password should contain at least one number.」\")\n",
    "                        listx = [\"~\",\"!\",\"@\",\"#\",\"$\",\"%\",\"^\",\"&\",\"*\",\"()\",\"_\",\"+\",\"|\",\"`\",\"-\",\"=\",\"{}\",\"[]\",\":\",\"”\",\";\",\"’\",\"<\",\">\",\\\n",
    "                                \"?\",\",\",\".\",\"/\"]\n",
    "                        for j in listx:\n",
    "                            if j in dict_[0]:\n",
    "                                count1 += 1\n",
    "                        if count1 != 1:\n",
    "                            print(\"「Password should contain at least one special character.」\")\n",
    "                            for k in range(len(dict_a[0])):\n",
    "                                if dict_a[k] == dict_a[-(k+1)]:\n",
    "                                    print(\"「Symmetric password is not allowed.」\")\n",
    "                                    k = 3\n",
    "                                    for h in range(4):\n",
    "                                        for l in range(k):\n",
    "                                            if dict_a[0][l] == dict_a[0][l+3]:\n",
    "                                                print(\"「Circular password is not allowed.」\")\n",
    "                                                k+=1\n",
    "                                                \n"
   ]
  },
  {
   "cell_type": "code",
   "execution_count": 27,
   "metadata": {},
   "outputs": [
    {
     "name": "stdout",
     "output_type": "stream",
     "text": [
      "END\n",
      "END\n"
     ]
    }
   ],
   "source": [
    "while True:    \n",
    "    dict_a ={}\n",
    "    dict_a[0] = input()\n",
    "    dict_a[1] = input()\n",
    "    count = 0 \n",
    "    count1= 0\n",
    "        "
   ]
  },
  {
   "cell_type": "code",
   "execution_count": 17,
   "metadata": {},
   "outputs": [
    {
     "name": "stdout",
     "output_type": "stream",
     "text": [
      "1\n",
      "2\n"
     ]
    }
   ],
   "source": [
    "dict_a={}\n",
    "count =0\n",
    "dict_a[0] =\"45ggg\"\n",
    "for i in dict_a[0]:\n",
    "    if i.isdigit() == True:\n",
    "        count += 1\n",
    "        print(count)"
   ]
  },
  {
   "cell_type": "code",
   "execution_count": 21,
   "metadata": {},
   "outputs": [],
   "source": [
    "list = [\"~\",\"!\",\"@\",\"#\",\"$\",\"%\",\"^\",\"&\",\"*\",\"()\",\"_\",\"+\",\"|\",\"`\",\"-\",\"=\",\"{}\",\"[]\",\":\",\"”\",\";\",\"’\",\"<\",\">\",\\\n",
    "                            \"?\",\",\",\".\",\"/\"]"
   ]
  },
  {
   "cell_type": "code",
   "execution_count": 30,
   "metadata": {},
   "outputs": [
    {
     "name": "stdout",
     "output_type": "stream",
     "text": [
      "qwer\n",
      "qwer\n",
      "qwer\n",
      "qwer\n",
      "qwer\n",
      "qwer\n",
      "END\n",
      "END\n"
     ]
    }
   ],
   "source": [
    "while True:    \n",
    "        dict_a ={}\n",
    "        dict_a[0] = input()\n",
    "        dict_a[1] = input()\n",
    "        count = 0 \n",
    "        count1= 0\n",
    "        if dict_a[0] and dict_a[1] == \"END\":\n",
    "            break\n",
    "        elif dict_a[0] != dict_a[1]:\n",
    "            print(\"「Password settings are not consistent.」\")\n",
    "        #如果有兩個 if 需要用else 完成下層條件式\n",
    "        else:\n",
    "            if len(dict_a[0]) < 8 or len(dict_a[1]) >12:\n",
    "                print(\"「Password should contain 8 to 12 characters.」\")\n",
    "                for i in dict_a[0]:\n",
    "                    if i.isupper() == True:\n",
    "                        count+=1\n",
    "                if count == 0:\n",
    "                    print(\"「Password should contain at least one upper-case alphabetical character.」\")  \n",
    "                elif count == len(dict_[0]):\n",
    "                    print(\"「Password should contain at least one lower-case alphabetical character.」\")  \n",
    "                    if dict_a[0].isdigit() == 0:\n",
    "                        print(\"「Password should contain at least one number.」\")\n",
    "                        listx = [\"~\",\"!\",\"@\",\"#\",\"$\",\"%\",\"^\",\"&\",\"*\",\"()\",\"_\",\"+\",\"|\",\"`\",\"-\",\"=\",\"{}\",\"[]\",\":\",\"”\",\";\",\"’\",\"<\",\">\",\\\n",
    "                                \"?\",\",\",\".\",\"/\"]\n",
    "                else:        \n",
    "                        for j in listx:\n",
    "                            if j in dict_[0]:\n",
    "                                count1 += 1\n",
    "                        if count1 != 1:\n",
    "                            print(\"「Password should contain at least one special character.」\")\n",
    "                            for k in range(len(dict_a[0])):\n",
    "                                if dict_a[k] == dict_a[-(k+1)]:\n",
    "                                    print(\"「Symmetric password is not allowed.」\")\n",
    "                                    k = 3\n",
    "                                    for h in range(4):\n",
    "                                        for l in range(k):\n",
    "                                            if dict_a[0][l] == dict_a[0][l+3]:\n",
    "                                                print(\"「Circular password is not allowed.」\")\n",
    "                                                k+=1\n",
    "                                                \n"
   ]
  },
  {
   "cell_type": "code",
   "execution_count": null,
   "metadata": {},
   "outputs": [],
   "source": [
    "while True:    \n",
    "        dict_a ={}\n",
    "        dict_a[0] = input()\n",
    "        dict_a[1] = input()\n",
    "        count = 0 \n",
    "        count1= 0\n",
    "        if dict_a[0] and dict_a[1] == \"END\":\n",
    "            break\n",
    "        elif dict_a[0] != dict_a[1]:\n",
    "            print(\"「Password settings are not consistent.」\")\n",
    "        #如果有兩個 if 需要用else 完成下層條件式\n",
    "        else:\n",
    "            if len(dict_a[0]) < 8 or len(dict_a[1]) >12:\n",
    "                print(\"「Password should contain 8 to 12 characters.」\")\n",
    "            else:\n",
    "                for i in dict_a[0]:\n",
    "                    if i.isupper() == True:\n",
    "                        count+=1\n",
    "                if count == 0:\n",
    "                    print(\"「Password should contain at least one upper-case alphabetical character.」\")  \n",
    "                elif count == len(dict_a[0]):\n",
    "                    print(\"「Password should contain at least one lower-case alphabetical character.」\")  \n",
    "                else:    \n",
    "                    if dict_a[0].isdigit() == 0:\n",
    "                        print(\"「Password should contain at least one number.」\")\n",
    "                        listx = [\"~\",\"!\",\"@\",\"#\",\"$\",\"%\",\"^\",\"&\",\"*\",\"()\",\"_\",\"+\",\"|\",\"`\",\"-\",\"=\",\"{}\",\"[]\",\":\",\"”\",\";\",\"’\",\"<\",\">\",\\\n",
    "                                \"?\",\",\",\".\",\"/\"]\n",
    "                        \n",
    "                        for j in listx:\n",
    "                            if j in dict_a[0]:\n",
    "                                count1 += 1\n",
    "                        if count1 == 0:\n",
    "                            print(\"「Password should contain at least one special character.」\")\n",
    "                        else:\n",
    "                            for k in range(len(dict_a[0])):\n",
    "                                if dict_a[k] == dict_a[-(k+1)]:\n",
    "                                    print(\"「Symmetric password is not allowed.」\")\n",
    "                                else:\n",
    "                                    w = 3\n",
    "                                    for h in range(4):\n",
    "                                        for l in range(w):\n",
    "                                            if dict_a[0][l] == dict_a[0][l+3]:\n",
    "                                                print(\"「Circular password is not allowed.」\")\n",
    "                                                w+=1\n",
    "                                            else:\n",
    "                                                print(\"Password is valid.\")\n",
    "                                                \n"
   ]
  },
  {
   "cell_type": "code",
   "execution_count": 32,
   "metadata": {},
   "outputs": [],
   "source": [
    "kk = [\"2255\"]\n",
    "if kk[0].isdigit() == False:\n",
    "    print(\"「Password should contain at least one number.」\")"
   ]
  },
  {
   "cell_type": "code",
   "execution_count": null,
   "metadata": {},
   "outputs": [],
   "source": [
    "print(\"「Circular password is not allowed.」\")\n",
    "\n"
   ]
  },
  {
   "cell_type": "code",
   "execution_count": 34,
   "metadata": {},
   "outputs": [
    {
     "data": {
      "text/plain": [
       "4"
      ]
     },
     "execution_count": 34,
     "metadata": {},
     "output_type": "execute_result"
    }
   ],
   "source": [
    "ww = 4\n",
    "dict_a[0] = \"aB3,aB3,\"\n",
    " len(dict_a[0])//2"
   ]
  },
  {
   "cell_type": "code",
   "execution_count": 65,
   "metadata": {},
   "outputs": [],
   "source": [
    "#完成\n",
    "def pass_checker():\n",
    "    while True:    \n",
    "            dict_a ={}\n",
    "            dict_a[0] = input()\n",
    "            dict_a[1] = input()\n",
    "            count  = 0 \n",
    "            count1 = 0\n",
    "            count2 = 0\n",
    "            o = 0\n",
    "            R = 0\n",
    "            z = 0 \n",
    "            z2 = 0\n",
    "            P=0\n",
    "            ww = 0\n",
    "            if dict_a[0] and dict_a[1] == \"END\":\n",
    "                break\n",
    "            elif len(dict_a[0]) > 100 or len(dict_a[1]) > 100:\n",
    "                break\n",
    "            elif dict_a[0] != dict_a[1]:\n",
    "                print(\"Password settings are not consistent.\")\n",
    "            #如果有兩個 if 需要用else 完成下層條件式\n",
    "            else:\n",
    "                if len(dict_a[0]) < 8 or len(dict_a[1]) >12:\n",
    "                    print(\"Password should contain 8 to 12 characters.\")\n",
    "                else:\n",
    "                    for i in dict_a[0]:\n",
    "                        if i.isupper() == True:\n",
    "                            count+=1\n",
    "                    if count == 0:\n",
    "                        print(\"Password should contain at least one upper-case alphabetical character.\")  \n",
    "                    elif count == len(dict_a[0]):\n",
    "                        print(\"Password should contain at least one lower-case alphabetical character.\")  \n",
    "                    else:\n",
    "                        for k in range(len(dict_a[0])):\n",
    "                            if dict_a[0][k].isdigit() == True:\n",
    "                                count2 += 1\n",
    "                        if count2 == 0: \n",
    "                                print(\"Password should contain at least one number.\")\n",
    "                    #sys quit??\n",
    "\n",
    "                        else:    \n",
    "                            listx = [\"~\",\"!\",\"@\",\"#\",\"$\",\"%\",\"^\",\"&\",\"*\",\"(\",\")\",\"_\",\"+\",\"|\",\"`\",\"-\",\"=\" \\\n",
    "                            ,\"”\",\"{\",\"}\",\"[\",\"]\",\":\",\"”\",\";\",\"’\",\"<\",\">\",\"?\",\",\",\".\",\"/\",\" \"]\n",
    "                            for j in listx:\n",
    "                                if j in dict_a[0]:\n",
    "                                    count1 += 1\n",
    "\n",
    "                            if count1 == 0:\n",
    "                                print(\"Password should contain at least one special character.\")\n",
    "                            else:    \n",
    "                                for k in range(len(dict_a[0])//2):\n",
    "                                    if dict_a[0][k] == dict_a[0][-(k+1)]:\n",
    "                                        o += 1\n",
    "                                if o >= len(dict_a[0])//2:\n",
    "                                    print(\"Symmetric password is not allowed.\")\n",
    "\n",
    "                                else:\n",
    "                                    w = 3\n",
    "                                    #4組\n",
    "                                    for h in range(4):\n",
    "                                        for l in range(w):\n",
    "                                            if dict_a[0][l] == dict_a[0][l+w]:\n",
    "                                                    ww += 1\n",
    "                                        if (ww*2) == len(dict_a[0]):            \n",
    "                                            print(\"Circular password is not allowed.\")\n",
    "                                            break    \n",
    "                                        elif w*2 >= len(dict_a[0]):\n",
    "                                            break\n",
    "                                        else:\n",
    "                                            w += 1    \n",
    "                            #可能在中途就判斷了,導致valid is invalid.\n",
    "                                    if ww*2 != len(dict_a[0]):\n",
    "                                        print(\"Password is valid.\")\n",
    "                                     \n",
    "                                            \n",
    "\n",
    "                                    \n",
    "                                \n",
    "     \n"
   ]
  },
  {
   "cell_type": "code",
   "execution_count": 62,
   "metadata": {},
   "outputs": [
    {
     "name": "stdout",
     "output_type": "stream",
     "text": [
      "abcdeabcd\n",
      "abcdeabcd\n",
      "Password should contain at least one upper-case alphabetical character.\n",
      "abcdEabcd\n",
      "abcdEabcd\n",
      "Password should contain at least one number.\n",
      "abcd*1E1*abcd\n",
      "abcd*1E1*abcd\n",
      "Password should contain 8 to 12 characters.\n",
      "abcd*1E1*abcd\n",
      "abcd*1E1*abcd\n",
      "Password should contain 8 to 12 characters.\n",
      "bcd*1E1*bcd\n",
      "abcd*1E1*abcd\n",
      "Password settings are not consistent.\n",
      "bcd*1E1*bcd\n",
      "bcd*1E1*bcd\n"
     ]
    },
    {
     "ename": "IndexError",
     "evalue": "string index out of range",
     "output_type": "error",
     "traceback": [
      "\u001b[0;31m---------------------------------------------------------------------------\u001b[0m",
      "\u001b[0;31mIndexError\u001b[0m                                Traceback (most recent call last)",
      "\u001b[0;32m<ipython-input-62-de5e71c8e7f3>\u001b[0m in \u001b[0;36m<module>\u001b[0;34m\u001b[0m\n\u001b[0;32m----> 1\u001b[0;31m \u001b[0mpass_checker\u001b[0m\u001b[0;34m(\u001b[0m\u001b[0;34m)\u001b[0m\u001b[0;34m\u001b[0m\u001b[0;34m\u001b[0m\u001b[0m\n\u001b[0m",
      "\u001b[0;32m<ipython-input-61-2cc77f935878>\u001b[0m in \u001b[0;36mpass_checker\u001b[0;34m()\u001b[0m\n\u001b[1;32m     61\u001b[0m                                     \u001b[0;32mfor\u001b[0m \u001b[0mh\u001b[0m \u001b[0;32min\u001b[0m \u001b[0mrange\u001b[0m\u001b[0;34m(\u001b[0m\u001b[0;36m4\u001b[0m\u001b[0;34m)\u001b[0m\u001b[0;34m:\u001b[0m\u001b[0;34m\u001b[0m\u001b[0;34m\u001b[0m\u001b[0m\n\u001b[1;32m     62\u001b[0m                                         \u001b[0;32mfor\u001b[0m \u001b[0ml\u001b[0m \u001b[0;32min\u001b[0m \u001b[0mrange\u001b[0m\u001b[0;34m(\u001b[0m\u001b[0mw\u001b[0m\u001b[0;34m)\u001b[0m\u001b[0;34m:\u001b[0m\u001b[0;34m\u001b[0m\u001b[0;34m\u001b[0m\u001b[0m\n\u001b[0;32m---> 63\u001b[0;31m                                             \u001b[0;32mif\u001b[0m \u001b[0mdict_a\u001b[0m\u001b[0;34m[\u001b[0m\u001b[0;36m0\u001b[0m\u001b[0;34m]\u001b[0m\u001b[0;34m[\u001b[0m\u001b[0ml\u001b[0m\u001b[0;34m]\u001b[0m \u001b[0;34m==\u001b[0m \u001b[0mdict_a\u001b[0m\u001b[0;34m[\u001b[0m\u001b[0;36m0\u001b[0m\u001b[0;34m]\u001b[0m\u001b[0;34m[\u001b[0m\u001b[0ml\u001b[0m\u001b[0;34m+\u001b[0m\u001b[0mw\u001b[0m\u001b[0;34m]\u001b[0m\u001b[0;34m:\u001b[0m\u001b[0;34m\u001b[0m\u001b[0;34m\u001b[0m\u001b[0m\n\u001b[0m\u001b[1;32m     64\u001b[0m                                                     \u001b[0mww\u001b[0m \u001b[0;34m+=\u001b[0m \u001b[0;36m1\u001b[0m\u001b[0;34m\u001b[0m\u001b[0;34m\u001b[0m\u001b[0m\n\u001b[1;32m     65\u001b[0m                                         \u001b[0;32mif\u001b[0m \u001b[0;34m(\u001b[0m\u001b[0mww\u001b[0m\u001b[0;34m*\u001b[0m\u001b[0;36m2\u001b[0m\u001b[0;34m)\u001b[0m \u001b[0;34m==\u001b[0m \u001b[0mlen\u001b[0m\u001b[0;34m(\u001b[0m\u001b[0mdict_a\u001b[0m\u001b[0;34m[\u001b[0m\u001b[0;36m0\u001b[0m\u001b[0;34m]\u001b[0m\u001b[0;34m)\u001b[0m\u001b[0;34m:\u001b[0m\u001b[0;34m\u001b[0m\u001b[0;34m\u001b[0m\u001b[0m\n",
      "\u001b[0;31mIndexError\u001b[0m: string index out of range"
     ]
    }
   ],
   "source": [
    "pass_checker()"
   ]
  },
  {
   "cell_type": "code",
   "execution_count": null,
   "metadata": {},
   "outputs": [],
   "source": [
    "bcd*1E1*bcd\n"
   ]
  },
  {
   "cell_type": "code",
   "execution_count": 85,
   "metadata": {},
   "outputs": [],
   "source": [
    "#完成2\n",
    "def pass_checker():\n",
    "    while True:    \n",
    "            dict_a ={}\n",
    "            dict_a[0] = input()\n",
    "            dict_a[1] = input()\n",
    "            count  = 0 \n",
    "            count1 = 0\n",
    "            count2 = 0\n",
    "            o = 0\n",
    "            R = 0\n",
    "            z = 0 \n",
    "            z2 = 0\n",
    "            P=0\n",
    "            ww = 0\n",
    "            www = 0\n",
    "            if dict_a[0] and dict_a[1] == \"END\":\n",
    "                break\n",
    "            elif len(dict_a[0]) > 100 or len(dict_a[1]) > 100:\n",
    "                break\n",
    "            elif dict_a[0] != dict_a[1]:\n",
    "                print(\"Password settings are not consistent.\")\n",
    "            #如果有兩個 if 需要用else 完成下層條件式\n",
    "            else:\n",
    "                if len(dict_a[0]) < 8 or len(dict_a[1]) >12:\n",
    "                    print(\"Password should contain 8 to 12 characters.\")\n",
    "                else:\n",
    "                    for i in dict_a[0]:\n",
    "                        if i.isupper() == True:\n",
    "                            count+=1\n",
    "                    if count == 0:\n",
    "                        print(\"Password should contain at least one upper-case alphabetical character.\")  \n",
    "                    elif count == len(dict_a[0]):\n",
    "                        print(\"Password should contain at least one lower-case alphabetical character.\")  \n",
    "                    else:\n",
    "                        for k in range(len(dict_a[0])):\n",
    "                            if dict_a[0][k].isdigit() == True:\n",
    "                                count2 += 1\n",
    "                        if count2 == 0: \n",
    "                                print(\"Password should contain at least one number.\")\n",
    "                    #sys quit??\n",
    "\n",
    "                        else:    \n",
    "                            listx = [\"~\",\"!\",\"@\",\"#\",\"$\",\"%\",\"^\",\"&\",\"*\",\"(\",\")\",\"_\",\"+\",\"|\",\"`\",\"-\",\"=\" \\\n",
    "                            ,\"”\",\"{\",\"}\",\"[\",\"]\",\":\",\"”\",\";\",\"’\",\"<\",\">\",\"?\",\",\",\".\",\"/\",\" \"]\n",
    "                            for j in listx:\n",
    "                                if j in dict_a[0]:\n",
    "                                    count1 += 1\n",
    "\n",
    "                            if count1 == 0:\n",
    "                                print(\"Password should contain at least one special character.\")\n",
    "                            else:    \n",
    "                                for k in range(len(dict_a[0])//2):\n",
    "                                    if dict_a[0][k] == dict_a[0][-(k+1)]:\n",
    "                                        o += 1\n",
    "                                if o >= len(dict_a[0])//2:\n",
    "                                    print(\"Symmetric password is not allowed.\")\n",
    "\n",
    "                                else:\n",
    "                                    w = 3\n",
    "                                    #4組\n",
    "                                    for h in range(4):\n",
    "                                        \n",
    "                                        for l in range(w):\n",
    "                                            if dict_a[0][l] == dict_a[0][l+w]:\n",
    "                                                ww += 1\n",
    "                                            if l+1+w <= len(dict_a[0])-1:    \n",
    "                                                    if dict_a[0][l] == dict_a[0][l+1+w]:\n",
    "                                                        www += 1\n",
    "                                            \n",
    "                                        if (ww*2) == len(dict_a[0]) or www*2 == len(dict_a[0])-1:            \n",
    "                                            print(\"Circular password is not allowed.\")\n",
    "                                            break    \n",
    "                                        elif w*2 >= len(dict_a[0]) or www*2 == len(dict_a[0])-1:\n",
    "                                            break\n",
    "                                        else:\n",
    "                                            w += 1 \n",
    "                                     \n",
    "                            #可能在中途就判斷了,導致valid is invalid.\n",
    "                                    if ww*2 != len(dict_a[0]) and www*2 < len(dict_a)-1:\n",
    "                                        print(\"Password is valid.\")\n",
    "                                     \n"
   ]
  },
  {
   "cell_type": "code",
   "execution_count": 86,
   "metadata": {},
   "outputs": [
    {
     "name": "stdout",
     "output_type": "stream",
     "text": [
      "Ad1*eAd1*\n",
      "Ad1*eAd1*\n",
      "Circular password is not allowed.\n",
      "aB3,aB3,\n",
      "aB3,aB3,\n",
      "Circular password is not allowed.\n",
      "aB3,,3Ba\n",
      "aB3,,3Ba\n",
      "Symmetric password is not allowed.\n",
      "abcDEF12\n",
      "abcDEF12\n",
      "Password should contain at least one special character.\n",
      "abcdEFGH\n",
      "abcdEFGH\n",
      "Password should contain at least one number.\n",
      "END\n",
      "END\n"
     ]
    }
   ],
   "source": [
    "pass_checker()"
   ]
  },
  {
   "cell_type": "code",
   "execution_count": null,
   "metadata": {},
   "outputs": [],
   "source": [
    "Ad1*eAd1*\n",
    "aB3,aB3,\n"
   ]
  },
  {
   "cell_type": "code",
   "execution_count": null,
   "metadata": {},
   "outputs": [],
   "source": []
  },
  {
   "cell_type": "code",
   "execution_count": null,
   "metadata": {},
   "outputs": [],
   "source": []
  }
 ],
 "metadata": {
  "kernelspec": {
   "display_name": "Python 3",
   "language": "python",
   "name": "python3"
  },
  "language_info": {
   "codemirror_mode": {
    "name": "ipython",
    "version": 3
   },
   "file_extension": ".py",
   "mimetype": "text/x-python",
   "name": "python",
   "nbconvert_exporter": "python",
   "pygments_lexer": "ipython3",
   "version": "3.7.3"
  }
 },
 "nbformat": 4,
 "nbformat_minor": 2
}
