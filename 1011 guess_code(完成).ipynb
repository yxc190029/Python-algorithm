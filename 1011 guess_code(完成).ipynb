{
 "cells": [
  {
   "cell_type": "code",
   "execution_count": 40,
   "metadata": {},
   "outputs": [
    {
     "name": "stdout",
     "output_type": "stream",
     "text": [
      "22\n",
      "and dd kk\n",
      "[System]and's turn: 0 - 100.\n",
      "23\n",
      "and guesses 23.\n",
      "[System]Failed! Guess smaller.\n",
      "[System]dd's turn: 0 - 22.\n",
      "21\n",
      "dd guesses 21.\n",
      "[System]Failed! Guess larger.\n",
      "[System]kk's turn: 22 - 22.\n",
      "22\n",
      "kk guesses 22.\n",
      "[System]Bingo! The answer is 22\n"
     ]
    }
   ],
   "source": [
    "#輸入互動\n",
    "code = int(input())\n",
    "player = input().split(\" \")\n",
    "#list(input(\"player\"))\n",
    "if code <= 100 and code >=0:\n",
    "    final_code = code\n",
    "else:\n",
    "    print(\"88\")\n",
    "highest_number = 100\n",
    "lowest_number = 0\n",
    "enter_number = 2\n",
    "print(\"[System]{}'s turn: 0 - 100.\".format(player[0]))\n",
    "while  True:\n",
    "    if final_code == enter_number:\n",
    "        break\n",
    "    for i in range(len(player)):            \n",
    "        enter_number = int(input())\n",
    "        print(\"{} guesses {}.\".format(player[i],enter_number))\n",
    "        if final_code == enter_number:\n",
    "            print(\"[System]Bingo! The answer is {}\".format(final_code))\n",
    "            break\n",
    "\n",
    "        elif final_code > enter_number:\n",
    "            lowest_number = enter_number + 1\n",
    "            print(\"[System]Failed! Guess larger.\")\n",
    "            print(\"[System]\"+ player[(i-len(player))+1] + \"'s turn: {} - {}.\".format(lowest_number,highest_number))\n",
    "        elif final_code < enter_number:\n",
    "            highest_number = enter_number -1\n",
    "            print(\"[System]Failed! Guess smaller.\")\n",
    "            print(\"[System]\"+ player[(i-len(player))+1] + \"'s turn: {} - {}.\".format(lowest_number,highest_number))"
   ]
  },
  {
   "cell_type": "code",
   "execution_count": 44,
   "metadata": {},
   "outputs": [
    {
     "name": "stdout",
     "output_type": "stream",
     "text": [
      "22\n",
      "cody sun yoyo\n",
      "[System]cody's turn: 0 - 100.\n",
      "cody guesses 62.\n",
      "[System]Failed! Guess smaller.\n",
      "[System]sun's turn: 0 - 61.\n",
      "sun guesses 3.\n",
      "[System]Failed! Guess larger.\n",
      "[System]yoyo's turn: 4 - 61.\n",
      "yoyo guesses 29.\n",
      "[System]Failed! Guess smaller.\n",
      "[System]cody's turn: 4 - 28.\n",
      "cody guesses 12.\n",
      "[System]Failed! Guess larger.\n",
      "[System]sun's turn: 13 - 28.\n",
      "sun guesses 13.\n",
      "[System]Failed! Guess larger.\n",
      "[System]yoyo's turn: 14 - 28.\n",
      "yoyo guesses 21.\n",
      "[System]Failed! Guess larger.\n",
      "[System]cody's turn: 22 - 28.\n",
      "cody guesses 26.\n",
      "[System]Failed! Guess smaller.\n",
      "[System]sun's turn: 22 - 25.\n",
      "sun guesses 25.\n",
      "[System]Failed! Guess smaller.\n",
      "[System]yoyo's turn: 22 - 24.\n",
      "yoyo guesses 24.\n",
      "[System]Failed! Guess smaller.\n",
      "[System]cody's turn: 22 - 23.\n",
      "cody guesses 22.\n",
      "[System]Bingo! The answer is 22\n"
     ]
    }
   ],
   "source": [
    "import random\n",
    "code = int(input())\n",
    "player = input().split(\" \")\n",
    "#list(input(\"player\"))\n",
    "if code <= 100 and code >=0:\n",
    "    final_code = code\n",
    "else:\n",
    "    print(\"88\")\n",
    "highest_number = 100\n",
    "lowest_number = 0\n",
    "enter_number = 2\n",
    "print(\"[System]{}'s turn: 0 - 100.\".format(player[0]))\n",
    "while  True:\n",
    "    if final_code == enter_number:\n",
    "        break\n",
    "    for i in range(len(player)):            \n",
    "        enter_number = random.randint(lowest_number,highest_number)\n",
    "        print(\"{} guesses {}.\".format(player[i],enter_number))\n",
    "        if final_code == enter_number:\n",
    "            print(\"[System]Bingo! The answer is {}\".format(final_code))\n",
    "            break\n",
    "\n",
    "        elif final_code > enter_number:\n",
    "            lowest_number = enter_number + 1\n",
    "            print(\"[System]Failed! Guess larger.\")\n",
    "            print(\"[System]\"+ player[(i-len(player))+1] + \"'s turn: {} - {}.\".format(lowest_number,highest_number))\n",
    "        elif final_code < enter_number:\n",
    "            highest_number = enter_number -1\n",
    "            print(\"[System]Failed! Guess smaller.\")\n",
    "            print(\"[System]\"+ player[(i-len(player))+1] + \"'s turn: {} - {}.\".format(lowest_number,highest_number))"
   ]
  },
  {
   "cell_type": "code",
   "execution_count": 43,
   "metadata": {},
   "outputs": [
    {
     "data": {
      "text/plain": [
       "96"
      ]
     },
     "execution_count": 43,
     "metadata": {},
     "output_type": "execute_result"
    }
   ],
   "source": [
    "import random\n",
    "random.randint(0,100)"
   ]
  },
  {
   "cell_type": "code",
   "execution_count": null,
   "metadata": {},
   "outputs": [],
   "source": []
  },
  {
   "cell_type": "code",
   "execution_count": null,
   "metadata": {},
   "outputs": [],
   "source": []
  }
 ],
 "metadata": {
  "kernelspec": {
   "display_name": "Python 3",
   "language": "python",
   "name": "python3"
  },
  "language_info": {
   "codemirror_mode": {
    "name": "ipython",
    "version": 3
   },
   "file_extension": ".py",
   "mimetype": "text/x-python",
   "name": "python",
   "nbconvert_exporter": "python",
   "pygments_lexer": "ipython3",
   "version": "3.7.3"
  }
 },
 "nbformat": 4,
 "nbformat_minor": 2
}
