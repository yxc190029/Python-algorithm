{
 "cells": [
  {
   "cell_type": "code",
   "execution_count": 12,
   "metadata": {},
   "outputs": [
    {
     "name": "stdout",
     "output_type": "stream",
     "text": [
      "0.04631046419715257\n"
     ]
    }
   ],
   "source": [
    "import math\n",
    "def TVM(PV,FV,i,n,t):\n",
    "    #i = annual interst rate\n",
    "    #n = times of compound in a year\n",
    "    #t= total period\n",
    "    if  t == None:\n",
    "        t = math.log(FV/PV)/(n*(math.log(1+i/n)))\n",
    "        print(\"{:.2f}\".format(t))\n",
    "    if FV == None:\n",
    "        FV = PV *( 1 + (i / n) )** (n * t)\n",
    "        print(\"{:.2f}\".format(FV))\n",
    "    if PV == None:\n",
    "        PV = FV/( 1 + (i / n) )** (n * t)\n",
    "        print(\"{:.2f}\".format(PV))\n",
    "    if i == None:\n",
    "        i=n*(math.exp(math.log(FV/PV)/(n*t))-1)\n",
    "        print(\"{}\".format(i))\n",
    "\n",
    "        \n",
    "TVM(21308,27958,None,1,6)\n",
    "\n"
   ]
  },
  {
   "cell_type": "code",
   "execution_count": 6,
   "metadata": {},
   "outputs": [
    {
     "name": "stdout",
     "output_type": "stream",
     "text": [
      "33.56\n"
     ]
    }
   ],
   "source": [
    "TVM(35000,180000,0.05,1,None)"
   ]
  },
  {
   "cell_type": "code",
   "execution_count": 7,
   "metadata": {},
   "outputs": [
    {
     "name": "stdout",
     "output_type": "stream",
     "text": [
      "138954728.71\n"
     ]
    }
   ],
   "source": [
    "TVM(None,650000000,0.095,1,17)"
   ]
  },
  {
   "cell_type": "code",
   "execution_count": 8,
   "metadata": {},
   "outputs": [
    {
     "name": "stdout",
     "output_type": "stream",
     "text": [
      "16340.99\n"
     ]
    }
   ],
   "source": [
    "TVM(None,4500000,0.08,1,73)"
   ]
  },
  {
   "cell_type": "code",
   "execution_count": 9,
   "metadata": {},
   "outputs": [
    {
     "name": "stdout",
     "output_type": "stream",
     "text": [
      "19803.93\n"
     ]
    }
   ],
   "source": [
    "TVM(55,None,0.07,1,87)"
   ]
  },
  {
   "cell_type": "code",
   "execution_count": 10,
   "metadata": {},
   "outputs": [
    {
     "name": "stdout",
     "output_type": "stream",
     "text": [
      "0.0855399886092596\n",
      "17694002.20\n"
     ]
    }
   ],
   "source": [
    "def TVM2(PV,FV,i,n,t):\n",
    "    #i = annual interst rate\n",
    "    #n = times of compound in a year\n",
    "    #t= total period\n",
    "    if  t == None:\n",
    "        t = math.log(FV/PV)/(n*(math.log(1+i/n)))\n",
    "        print(\"{:.2f}\".format(t))\n",
    "    if FV == None:\n",
    "        FV = PV *( 1 + (i / n) )** (n * t)\n",
    "        print(\"{:.2f}\".format(FV))\n",
    "    if PV == None:\n",
    "        PV = FV/( 1 + (i / n) )** (n * t)\n",
    "        print(\"{:.2f}\".format(PV))\n",
    "    if i == None:\n",
    "        i=n*(math.exp(math.log(FV/PV)/(n*t))-1)\n",
    "        print(\"{}\".format(i))\n",
    "        return i\n",
    "ii = TVM2(120,1179000,None,1,112)\n",
    "TVM2(1179000,None,ii,1,33)"
   ]
  },
  {
   "cell_type": "code",
   "execution_count": 16,
   "metadata": {},
   "outputs": [
    {
     "name": "stdout",
     "output_type": "stream",
     "text": [
      "-0.04492191272169277\n",
      "-0.045\n"
     ]
    }
   ],
   "source": [
    "i = TVM2(12385500,10305500,None,1,4)\n",
    "print(\"{:.3f}\".format(i))\n",
    "\n"
   ]
  },
  {
   "cell_type": "code",
   "execution_count": 17,
   "metadata": {},
   "outputs": [
    {
     "name": "stdout",
     "output_type": "stream",
     "text": [
      "56204.87\n",
      "28841.99\n"
     ]
    }
   ],
   "source": [
    "#(a)\n",
    "TVM(2000,None,0.1,1,35)\n",
    "#(b)\n",
    "TVM(2000,None,0.1,1,28)\n"
   ]
  },
  {
   "cell_type": "code",
   "execution_count": 18,
   "metadata": {},
   "outputs": [
    {
     "name": "stdout",
     "output_type": "stream",
     "text": [
      "42846.21\n"
     ]
    }
   ],
   "source": [
    "TVM(29000,None,0.05,1,8)"
   ]
  },
  {
   "cell_type": "code",
   "execution_count": 21,
   "metadata": {},
   "outputs": [
    {
     "name": "stdout",
     "output_type": "stream",
     "text": [
      "21.8341485495711\n"
     ]
    },
    {
     "data": {
      "text/plain": [
       "21.8341485495711"
      ]
     },
     "execution_count": 21,
     "metadata": {},
     "output_type": "execute_result"
    }
   ],
   "source": [
    "def TVM3(PV,FV,i,n,t):\n",
    "    if  t == None:\n",
    "        t = math.log(FV/PV)/(n*(math.log(1+i/n)))\n",
    "        print(\"{}\".format(t))\n",
    "    if FV == None:\n",
    "        FV = PV *( 1 + (i / n) )** (n * t)\n",
    "        print(\"{:.2f}\".format(FV))\n",
    "    if PV == None:\n",
    "        PV = FV/( 1 + (i / n) )** (n * t)\n",
    "        print(\"{:.2f}\".format(PV))\n",
    "    if i == None:\n",
    "        i=n*(math.exp(math.log(FV/PV)/(n*t))-1)\n",
    "        print(\"{.2f}\".format(i))\n",
    "    return t\n",
    "TVM3(8000,95000,0.12,1,None)\n"
   ]
  },
  {
   "cell_type": "code",
   "execution_count": null,
   "metadata": {},
   "outputs": [],
   "source": []
  }
 ],
 "metadata": {
  "kernelspec": {
   "display_name": "Python 3",
   "language": "python",
   "name": "python3"
  },
  "language_info": {
   "codemirror_mode": {
    "name": "ipython",
    "version": 3
   },
   "file_extension": ".py",
   "mimetype": "text/x-python",
   "name": "python",
   "nbconvert_exporter": "python",
   "pygments_lexer": "ipython3",
   "version": "3.7.3"
  }
 },
 "nbformat": 4,
 "nbformat_minor": 2
}
