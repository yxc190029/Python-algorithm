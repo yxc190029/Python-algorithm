{
 "cells": [
  {
   "cell_type": "code",
   "execution_count": 16,
   "metadata": {},
   "outputs": [
    {
     "name": "stdout",
     "output_type": "stream",
     "text": [
      "Enter a key to the to-do list, press enter when done: \n",
      "gogo\n",
      "Enter a key to the to-do list, press enter when done: \n",
      "hoho\n",
      "task_add\n",
      "Enter a key to the to-do list, press enter when done: \n",
      "\n",
      "Your shopping list: \n",
      "\n",
      "gogo\n",
      "hoho\n"
     ]
    }
   ],
   "source": [
    "#loop\n",
    "shopping_list=[]\n",
    "item = input(\"Enter a key to the to-do list, press enter when done: \\n\")\n",
    "shopping_list.append(item)\n",
    "while len(item) != 0:\n",
    "    item = input(\"Enter a key to the to-do list, press enter when done: \\n\")\n",
    "    if len(item) != 0:\n",
    "        shopping_list.append(item)\n",
    "        print(\"task_add\")\n",
    "    else:\n",
    "        print(\"Your shopping list: \\n\")\n",
    "        break\n",
    "for i in shopping_list:\n",
    "    print(i)\n",
    "    "
   ]
  },
  {
   "cell_type": "code",
   "execution_count": 1,
   "metadata": {},
   "outputs": [
    {
     "name": "stdout",
     "output_type": "stream",
     "text": [
      "0204\n"
     ]
    },
    {
     "data": {
      "text/plain": [
       "{'B': '5566', 'tony': 7788}"
      ]
     },
     "execution_count": 1,
     "metadata": {},
     "output_type": "execute_result"
    }
   ],
   "source": [
    "#dict\n",
    "contact={\"A\":\"0204\",\"B\":\"5566\"}\n",
    "call_A= contact[\"A\"]\n",
    "print(call_A)\n",
    "#add tony to dict\n",
    "contact[\"tony\"]=7788\n",
    "contact\n",
    "del contact[\"A\"]\n",
    "contact\n",
    "#列出所有key\n",
    "\n",
    "    #if A has two telephone we can use [] in list to direct the one you want.\n",
    "#check the value\n"
   ]
  },
  {
   "cell_type": "code",
   "execution_count": 35,
   "metadata": {},
   "outputs": [
    {
     "name": "stdout",
     "output_type": "stream",
     "text": [
      "False\n"
     ]
    }
   ],
   "source": [
    "print(\"0204\"in contact.values())\n"
   ]
  },
  {
   "cell_type": "code",
   "execution_count": 32,
   "metadata": {},
   "outputs": [
    {
     "name": "stdout",
     "output_type": "stream",
     "text": [
      "{'B': '5566', 'tony': 7788}\n"
     ]
    }
   ],
   "source": [
    "if \"B\" in contact.keys():\n",
    "    print(contact)\n",
    "#假設用 for i in contacts:  i 會直接找key."
   ]
  },
  {
   "cell_type": "code",
   "execution_count": null,
   "metadata": {},
   "outputs": [],
   "source": [
    "#eg contacts[contact][\"email\"] 分別為 1. whole dic key, 2. loop (i), 經由1的指定後才能準確印出對印的 3. dic key   \n"
   ]
  },
  {
   "cell_type": "code",
   "execution_count": 58,
   "metadata": {},
   "outputs": [
    {
     "name": "stdout",
     "output_type": "stream",
     "text": [
      "Jason : Can fly an airplane.\n",
      "Jeff : Is afraid of clowns.\n",
      "David : Plays the piano.\n",
      "Jason : Can fly an airplane.\n",
      "Jeff : Is afraid of heights\t k.\n",
      "David : Plays the piano.\n",
      "Jill : Can hula dance.\n"
     ]
    }
   ],
   "source": [
    "def display_fact(facts):\n",
    "    for i in facts: \n",
    "        print(\"{} : {}\".format(i,facts[i])) #key, value ,字典會自動填入因為定義好key value\n",
    "    \n",
    "\n",
    "facts_A={\n",
    "'Jason': 'Can fly an airplane.'\n",
    ",\n",
    "'Jeff': 'Is afraid of clowns.',\n",
    "\n",
    "'David': 'Plays the piano.'}\n",
    "\n",
    "display_fact(facts_A)\n",
    "\n",
    "facts_A['Jeff'] = 'Is afraid of heights.'\n",
    "facts_A['Jill'] = 'Can hula dance.'\n",
    "display_fact(facts_A)\n",
    "\n",
    "#結論,自動要經過format 印出來才會整齊."
   ]
  },
  {
   "cell_type": "code",
   "execution_count": null,
   "metadata": {},
   "outputs": [],
   "source": []
  },
  {
   "cell_type": "code",
   "execution_count": null,
   "metadata": {},
   "outputs": [],
   "source": []
  },
  {
   "cell_type": "code",
   "execution_count": null,
   "metadata": {},
   "outputs": [],
   "source": []
  },
  {
   "cell_type": "code",
   "execution_count": null,
   "metadata": {},
   "outputs": [],
   "source": []
  },
  {
   "cell_type": "code",
   "execution_count": null,
   "metadata": {},
   "outputs": [],
   "source": []
  },
  {
   "cell_type": "code",
   "execution_count": null,
   "metadata": {},
   "outputs": [],
   "source": []
  },
  {
   "cell_type": "code",
   "execution_count": null,
   "metadata": {},
   "outputs": [],
   "source": []
  }
 ],
 "metadata": {
  "kernelspec": {
   "display_name": "Python 3",
   "language": "python",
   "name": "python3"
  },
  "language_info": {
   "codemirror_mode": {
    "name": "ipython",
    "version": 3
   },
   "file_extension": ".py",
   "mimetype": "text/x-python",
   "name": "python",
   "nbconvert_exporter": "python",
   "pygments_lexer": "ipython3",
   "version": "3.7.3"
  }
 },
 "nbformat": 4,
 "nbformat_minor": 2
}
