{
 "cells": [
  {
   "cell_type": "code",
   "execution_count": 16,
   "metadata": {},
   "outputs": [
    {
     "name": "stdout",
     "output_type": "stream",
     "text": [
      "[400.0, 400.0, 150.0]\n",
      "0.04\n",
      "10000\n",
      "0.02\n",
      "20000\n",
      "0.03\n",
      "5000\n",
      "portfolio annual % Return 2.64\n"
     ]
    }
   ],
   "source": [
    "class stock:\n",
    "    #expectedReturn (被移除了)\n",
    "    def __init__(self,expectedReturn):\n",
    "        #initial contructor python 物件導向 object-oriented.\n",
    "        self.expectedReturn = expectedReturn\n",
    "        #self = f(x) 的f\n",
    "stocks = [stock(0.04),stock(0.02),stock(0.03)]\n",
    "#stock 用class 叫出來 是 object型態\n",
    "investments = [10000,20000,5000]\n",
    "#self 會自動填入 定義的variable or class 創造的object\n",
    "#self 不是一個參數,只是一個保留參數 ,self 包含 class Stock\n",
    "print([x.expectedReturn * y for x,y in zip(stocks, investments)])\n",
    "#x.self 叫出一個可以迭代的迴圈\n",
    "#x 是物件\n",
    "for x,y in zip(stocks, investments):\n",
    "    print(x.expectedReturn)\n",
    "    print(y)\n",
    "a = sum([x.expectedReturn * y for x,y in zip(stocks,investments)])\n",
    "b = sum([(x.expectedReturn+1) * y for x,y in zip(stocks,investments)])\n",
    "#用list應該也行\n",
    "#rp = for i in len(investments)\n",
    "rp = (a/b)\n",
    "print(\"portfolio annual % Return \" + \"{:,.2f}\".format(rp*100))\n",
    "         "
   ]
  },
  {
   "cell_type": "code",
   "execution_count": 16,
   "metadata": {},
   "outputs": [
    {
     "data": {
      "text/plain": [
       "5.55556"
      ]
     },
     "execution_count": 16,
     "metadata": {},
     "output_type": "execute_result"
    }
   ],
   "source": [
    "st"
   ]
  },
  {
   "cell_type": "code",
   "execution_count": null,
   "metadata": {},
   "outputs": [],
   "source": [
    "import time, thread\n",
    "\n",
    "def myfunction(string, sleeptime, lock, *args):\n",
    "    while True:\n",
    "        lock.acquire()\n",
    "        time.sleep(sleeptime)\n",
    "        lock.release()\n",
    "        time.sleep(sleeptime)\n",
    "\n",
    "if __name__ == \"__main__\":\n",
    "\n",
    "    lock = thread.allocate_lock()\n",
    "    thread.start_new_thread(myfunction, (\"Thread #: 1\", 2, lock))\n",
    "    thread.start_new_thread(myfunction, (\"Thread #: 2\", 2, lock))\n",
    "    \n",
    "#b = import \n",
    "#a = main"
   ]
  },
  {
   "cell_type": "code",
   "execution_count": null,
   "metadata": {},
   "outputs": [],
   "source": []
  }
 ],
 "metadata": {
  "kernelspec": {
   "display_name": "Python 3",
   "language": "python",
   "name": "python3"
  },
  "language_info": {
   "codemirror_mode": {
    "name": "ipython",
    "version": 3
   },
   "file_extension": ".py",
   "mimetype": "text/x-python",
   "name": "python",
   "nbconvert_exporter": "python",
   "pygments_lexer": "ipython3",
   "version": "3.7.3"
  }
 },
 "nbformat": 4,
 "nbformat_minor": 2
}
