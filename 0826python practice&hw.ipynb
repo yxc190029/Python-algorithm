{
 "cells": [
  {
   "cell_type": "code",
   "execution_count": 22,
   "metadata": {},
   "outputs": [
    {
     "name": "stdout",
     "output_type": "stream",
     "text": [
      "you said\n",
      "My name is Michele\n",
      "Michele is name My\n"
     ]
    }
   ],
   "source": [
    "#反轉字串ex103\n",
    "z=input(\"you said\\n\")\n",
    "z=z.split(\" \")\n",
    "#分割用空格能切開句子\n",
    "z.reverse()\n",
    "z2=\" \".join(z)\n",
    "    \n",
    "print(z2)\n",
    "#[start:end:step] 可用step 讓char 倒過來\n",
    "#{:}一律寫在冒號後,跟format一起使用"
   ]
  },
  {
   "cell_type": "code",
   "execution_count": 20,
   "metadata": {},
   "outputs": [
    {
     "name": "stdout",
     "output_type": "stream",
     "text": [
      "you said\n",
      "i love you\n",
      " \n"
     ]
    }
   ],
   "source": [
    "z=input(\"you said\\n\")\n",
    "print(z[1])"
   ]
  },
  {
   "cell_type": "code",
   "execution_count": 25,
   "metadata": {},
   "outputs": [
    {
     "name": "stdout",
     "output_type": "stream",
     "text": [
      "104\n",
      "40.0\n"
     ]
    }
   ],
   "source": [
    "#攝氏＝5/9×(華氏－32)\n",
    "fahrenheit=input()\n",
    "celsius=5/9*(int(fahrenheit)-32)\n",
    "print(celsius)\n",
    "\n",
    "\n"
   ]
  },
  {
   "cell_type": "code",
   "execution_count": null,
   "metadata": {},
   "outputs": [],
   "source": []
  },
  {
   "cell_type": "code",
   "execution_count": 119,
   "metadata": {
    "scrolled": true
   },
   "outputs": [
    {
     "name": "stdout",
     "output_type": "stream",
     "text": [
      "i 2 \n",
      "love 3\n",
      "you 1\n",
      "you i love.\n"
     ]
    }
   ],
   "source": [
    "#字串小學堂2\n",
    "list_insert=['$',\"$\"]  #改\n",
    "\n",
    "z=input(\"\")\n",
    "x=input(\"\")\n",
    "c=input(\"\")\n",
    "\n",
    "z=z.split(\" \")\n",
    "x=x.split(\" \")\n",
    "c=c.split(\" \")\n",
    "\n",
    "int_z=int(z[1])\n",
    "int_x=int(x[1])\n",
    "int_c=int(c[1])\n",
    "\n",
    "\n",
    "list_insert.insert(int_z,z[0])\n",
    "list_insert.insert(int_x,x[0])\n",
    "list_insert.insert(int_c,c[0])\n",
    "while \"$\" in list_insert:\n",
    "    list_insert.remove('$')\n",
    "#remove 的函式不可以用變數存起來\n",
    "str_ans=\" \".join(list_insert)\n",
    "print(\"{}.\".format(str_ans))\n",
    "    \n",
    "\n",
    "#print(z,x,c)\n",
    "#分割用空格能切開句子\n",
    "\n",
    "\n"
   ]
  },
  {
   "cell_type": "code",
   "execution_count": null,
   "metadata": {},
   "outputs": [],
   "source": [
    "# 勞倫斯教學\n",
    "list_insert = [\"\", \"\", \"\"]\n",
    "\n",
    "z = input(\"\")\n",
    "x = input(\"\")\n",
    "c = input(\"\")\n",
    "\n",
    "z = z.split(\" \")\n",
    "x = x.split(\" \")\n",
    "c = c.split(\" \")\n",
    "\n",
    "int_z = int(z[1]) - 1\n",
    "int_x = int(x[1]) - 1\n",
    "int_c = int(c[1]) - 1\n",
    "\n",
    "list_insert[int_z] = z[0]\n",
    "list_insert[int_x] = x[0]\n",
    "list_insert[int_c] = c[0]\n",
    "#list_A[ ] = Z\n",
    "print(list_insert)\n",
    "str_ans = \" \".join(list_insert)\n",
    "print(str_ans + \".\")\n",
    "\n",
    "\n"
   ]
  },
  {
   "cell_type": "code",
   "execution_count": 116,
   "metadata": {},
   "outputs": [
    {
     "name": "stdout",
     "output_type": "stream",
     "text": [
      "i 9\n",
      "sentence ,number\n",
      "o 9\n",
      "sentence ,number\n",
      "e 2\n",
      "sentence ,number\n",
      "\n",
      "end\n"
     ]
    },
    {
     "data": {
      "text/plain": [
       "''"
      ]
     },
     "execution_count": 116,
     "metadata": {},
     "output_type": "execute_result"
    }
   ],
   "source": [
    "list_insert=[]\n",
    "def str_sign():\n",
    "    all_data=input()\n",
    "    while len(all_data) != 0:\n",
    "        all_data=input(\"sentence ,number\\n\")\n",
    "    else:\n",
    "        print(\"end\")\n",
    "        return all_data\n",
    "\n",
    "    \n",
    "    \n",
    "    \n",
    "str_sign()\n",
    "        \n",
    "        "
   ]
  },
  {
   "cell_type": "code",
   "execution_count": 110,
   "metadata": {},
   "outputs": [
    {
     "ename": "TypeError",
     "evalue": "object of type 'float' has no len()",
     "output_type": "error",
     "traceback": [
      "\u001b[0;31m---------------------------------------------------------------------------\u001b[0m",
      "\u001b[0;31mTypeError\u001b[0m                                 Traceback (most recent call last)",
      "\u001b[0;32m<ipython-input-110-526c1ef02d7e>\u001b[0m in \u001b[0;36m<module>\u001b[0;34m\u001b[0m\n\u001b[1;32m      1\u001b[0m \u001b[0;31m#字串小學堂2 寫活\u001b[0m\u001b[0;34m\u001b[0m\u001b[0;34m\u001b[0m\u001b[0;34m\u001b[0m\u001b[0m\n\u001b[1;32m      2\u001b[0m \u001b[0;31m#字串小學堂2\u001b[0m\u001b[0;34m\u001b[0m\u001b[0;34m\u001b[0m\u001b[0;34m\u001b[0m\u001b[0m\n\u001b[0;32m----> 3\u001b[0;31m \u001b[0mlist_insert\u001b[0m\u001b[0;34m=\u001b[0m\u001b[0;34m[\u001b[0m\u001b[0;34m]\u001b[0m\u001b[0;34m.\u001b[0m\u001b[0mappend\u001b[0m\u001b[0;34m(\u001b[0m\u001b[0;34m(\u001b[0m\u001b[0mlen\u001b[0m\u001b[0;34m(\u001b[0m\u001b[0mi\u001b[0m\u001b[0;34m)\u001b[0m\u001b[0;34m-\u001b[0m\u001b[0;36m1\u001b[0m\u001b[0;34m)\u001b[0m\u001b[0;34m*\u001b[0m\u001b[0;34m'$'\u001b[0m\u001b[0;34m)\u001b[0m\u001b[0;34m\u001b[0m\u001b[0;34m\u001b[0m\u001b[0m\n\u001b[0m\u001b[1;32m      4\u001b[0m \u001b[0;32mdef\u001b[0m \u001b[0mstr_sign\u001b[0m\u001b[0;34m(\u001b[0m\u001b[0;34m*\u001b[0m\u001b[0msentence_number\u001b[0m\u001b[0;34m)\u001b[0m\u001b[0;34m:\u001b[0m\u001b[0;34m\u001b[0m\u001b[0;34m\u001b[0m\u001b[0m\n\u001b[1;32m      5\u001b[0m     \u001b[0;32mfor\u001b[0m \u001b[0mi\u001b[0m \u001b[0;32min\u001b[0m \u001b[0msentence_number\u001b[0m\u001b[0;34m:\u001b[0m\u001b[0;34m\u001b[0m\u001b[0;34m\u001b[0m\u001b[0m\n",
      "\u001b[0;31mTypeError\u001b[0m: object of type 'float' has no len()"
     ]
    }
   ],
   "source": [
    "#字串小學堂2 優化8/29\n",
    "#字串小學堂2 無限制輸入個數\n",
    "\n",
    "\n",
    "\n",
    "z=z.split(\" \")\n",
    "x=x.split(\" \")\n",
    "c=c.split(\" \")\n",
    "\n",
    "int_z=int(z[1])\n",
    "int_x=int(x[1])\n",
    "int_c=int(c[1])\n",
    "\n",
    "\n",
    "list_insert.insert(int_z,z[0])\n",
    "list_insert.insert(int_x,x[0])\n",
    "list_insert.insert(int_c,c[0])\n",
    "while \"$\" in list_insert:\n",
    "    list_insert.remove('$')\n",
    "#remove 的函式不可以用變數存起來\n",
    "str_ans=\" \".join(list_insert)\n",
    "print(\"{}.\".format(str_ans))\n",
    "    \n",
    "\n",
    "\n"
   ]
  },
  {
   "cell_type": "code",
   "execution_count": null,
   "metadata": {},
   "outputs": [],
   "source": [
    "print(type(z[1]))\n"
   ]
  },
  {
   "cell_type": "code",
   "execution_count": 56,
   "metadata": {},
   "outputs": [
    {
     "ename": "SyntaxError",
     "evalue": "invalid syntax (<ipython-input-56-957c8ad5ea93>, line 1)",
     "output_type": "error",
     "traceback": [
      "\u001b[0;36m  File \u001b[0;32m\"<ipython-input-56-957c8ad5ea93>\"\u001b[0;36m, line \u001b[0;32m1\u001b[0m\n\u001b[0;31m    print\"first\"\u001b[0m\n\u001b[0m               ^\u001b[0m\n\u001b[0;31mSyntaxError\u001b[0m\u001b[0;31m:\u001b[0m invalid syntax\n"
     ]
    }
   ],
   "source": [
    "print\"first\""
   ]
  },
  {
   "cell_type": "code",
   "execution_count": 84,
   "metadata": {},
   "outputs": [],
   "source": [
    "#take nature log to solve the problem\n",
    "#n*t= compound period\n",
    "import math \n",
    "#PV=5\n",
    "#i=0.1 #interest rate\n",
    "#n=2 #n= trasfer rate to specific period\n",
    "#t=14.21 #t= period\n",
    "\n",
    "\n",
    "def TVM_FV(PV,i,n,t):\n",
    "    FV =PV *( 1 + (i / n) )** (n * t)\n",
    "    print(FV)\n",
    "def TVM_i(PV,FV,n,t):\n",
    "    FV =PV *( 1 + (i / n) )** (n * t)\n",
    "    print(i)\n",
    "def TVM_T(PV,FV,i,n):\n",
    "    t=math.log(FV/PV)/(n*(math.log(1+i/n)))\n",
    "    print(t)\n",
    "    \n"
   ]
  },
  {
   "cell_type": "code",
   "execution_count": 85,
   "metadata": {},
   "outputs": [
    {
     "name": "stdout",
     "output_type": "stream",
     "text": [
      "20.006443129132343\n",
      "0.1\n",
      "14.206699082890461\n"
     ]
    }
   ],
   "source": [
    "TVM_FV(5,0.1,2,14.21)\n",
    "TVM_i(5,20,2,14)\n",
    "TVM_T(5,20,0.1,2)"
   ]
  },
  {
   "cell_type": "code",
   "execution_count": 63,
   "metadata": {},
   "outputs": [],
   "source": []
  },
  {
   "cell_type": "code",
   "execution_count": 64,
   "metadata": {},
   "outputs": [
    {
     "name": "stdout",
     "output_type": "stream",
     "text": [
      "14.206699082890461\n"
     ]
    }
   ],
   "source": [
    "TVM_T(5,20,0.1,2)"
   ]
  },
  {
   "cell_type": "code",
   "execution_count": 36,
   "metadata": {},
   "outputs": [
    {
     "data": {
      "text/plain": [
       "0.0"
      ]
     },
     "execution_count": 36,
     "metadata": {},
     "output_type": "execute_result"
    }
   ],
   "source": [
    "math.log(1)"
   ]
  },
  {
   "cell_type": "code",
   "execution_count": 31,
   "metadata": {},
   "outputs": [
    {
     "ename": "SyntaxError",
     "evalue": "invalid syntax (<ipython-input-31-60f24fb724d8>, line 1)",
     "output_type": "error",
     "traceback": [
      "\u001b[0;36m  File \u001b[0;32m\"<ipython-input-31-60f24fb724d8>\"\u001b[0;36m, line \u001b[0;32m1\u001b[0m\n\u001b[0;31m    FV = PV x [ 1 + (i / n) ] (n x t)\u001b[0m\n\u001b[0m            ^\u001b[0m\n\u001b[0;31mSyntaxError\u001b[0m\u001b[0;31m:\u001b[0m invalid syntax\n"
     ]
    }
   ],
   "source": [
    "FV = PV x [ 1 + (i / n) ] (n x t)\n",
    "3**3\n",
    "notepad ++\n"
   ]
  },
  {
   "cell_type": "code",
   "execution_count": 122,
   "metadata": {},
   "outputs": [
    {
     "name": "stdout",
     "output_type": "stream",
     "text": [
      "14.206699082890461\n",
      "0.1\n"
     ]
    }
   ],
   "source": [
    "\n",
    "def TVM_FV(PV,FV,i,n,t =0):\n",
    "    FV =PV *( 1 + (i / n) )** (n * t)\n",
    "    print(FV)\n",
    "def TVM_i(PV,FV,n,t):\n",
    "    FV =PV *( 1 + (i / n) )** (n * t)\n",
    "    print(i)\n",
    "def TVM_T(PV,FV,i,n,t=0):\n",
    "    t=math.log(FV/PV)/(n*(math.log(1+i/n)))\n",
    "    print(t)\n",
    "TVM_T(5,20,0.1,2,0)\n",
    "TVM_i(5,20,2,14.2)"
   ]
  },
  {
   "cell_type": "code",
   "execution_count": null,
   "metadata": {},
   "outputs": [],
   "source": []
  }
 ],
 "metadata": {
  "kernelspec": {
   "display_name": "Python 3",
   "language": "python",
   "name": "python3"
  },
  "language_info": {
   "codemirror_mode": {
    "name": "ipython",
    "version": 3
   },
   "file_extension": ".py",
   "mimetype": "text/x-python",
   "name": "python",
   "nbconvert_exporter": "python",
   "pygments_lexer": "ipython3",
   "version": "3.7.3"
  }
 },
 "nbformat": 4,
 "nbformat_minor": 2
}
