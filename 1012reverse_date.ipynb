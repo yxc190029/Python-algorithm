{
 "cells": [
  {
   "cell_type": "code",
   "execution_count": 14,
   "metadata": {},
   "outputs": [
    {
     "name": "stdout",
     "output_type": "stream",
     "text": [
      "20110139\n",
      "20111231\n",
      "nono\n"
     ]
    }
   ],
   "source": [
    "from datetime import datetime\n",
    "\n",
    "first_date  = input()\n",
    "seconddate =  input()\n",
    "count = 0 \n",
    "ok = 0\n",
    "yearx = first_date[0:4]\n",
    "\n",
    "yearx100 = int(yearx)\n",
    "month = int(first_date[4:6])\n",
    "date = int(first_date[6:8])\n",
    "date_all1 = int(first_date[0:8])\n",
    "#配對的for loop怎用？ \n",
    "        \n",
    "yearx2 = seconddate[0:4]\n",
    "#yearx 是拿來操作回文的\n",
    "year200 = int(yearx2)\n",
    "month2 = int(seconddate[4:6])\n",
    "date2 = int(seconddate[6:8])\n",
    "date_all2 = int(seconddate[0:8])\n",
    "\n",
    "#偵錯----------------------------------\n",
    "try:\n",
    "    datetime_start = datetime(yearx100,month,date)\n",
    "    datetime_end = datetime(year200,month2,date2)\n",
    "    timestampA = datetime_start.timestamp()\n",
    "    timestampB = datetime_end.timestamp()\n",
    "    if timestampA < timestampB and first_date[0] != \"0\" and seconddate[0] != \"0\" :\n",
    "        ok += 1\n",
    "        rangeuse = year200+1-yearx100\n",
    "        for i in range(0,rangeuse):\n",
    "            yearx100 = int(first_date[0:4])\n",
    "            yearx100 += i\n",
    "            yearx = str(yearx100)\n",
    "            superyearx1 = int(yearx[-1:-3:-1])\n",
    "            superyearx2 = int(yearx[-3:-5:-1])\n",
    "            try:\n",
    "                tem_date = datetime(yearx100,superyearx1,superyearx2)\n",
    "                timestampC = tem_date.timestamp()\n",
    "                if timestampC >= timestampA and timestampC <= timestampB:\n",
    "                    count += 1\n",
    "                else:\n",
    "                    print(\"\")\n",
    "            except:\n",
    "                ok -= 1 \n",
    "\n",
    "        print(count)\n",
    "    \n",
    "    else:\n",
    "        ok -= 1      \n",
    "except ValueError:\n",
    "    print(\"nono\")\n",
    "#保證date1和date2都是真實存在的日期，且年份部分一定為4位數字，且首位數字不為0。\n",
    "\n",
    "\n",
    "#------------------------\n",
    "\n",
    "# rangeuse = year200+1-yearx100\n",
    "\n",
    "# for i in range(0,rangeuse):\n",
    "#     yearx100 = int(first_date[0:4])\n",
    "#     yearx100 += i\n",
    "#     yearx = str(yearx100)\n",
    "#     superyearx1 = int(yearx[-1:-3:-1])\n",
    "#     superyearx2 = int(yearx[-3:-5:-1])\n",
    "#     try:\n",
    "#         tem_date = datetime(yearx100,superyearx1,superyearx2)\n",
    "#         timestampC = tem_date.timestamp()\n",
    "#         if timestampC >= timestampA and timestampC <= timestampB:\n",
    "#             count += 1\n",
    "#         else:\n",
    "#             print(\"\")\n",
    "#     except:\n",
    "#         ok -= 1 \n",
    "\n",
    "# print(count)\n",
    "    \n",
    "    \n",
    "    \n",
    "    \n",
    "    \n",
    "#datetime(dict_a[1],dict_a[2],dict_a[3])\n",
    "# try: \n",
    "#     datetime(,2,29)\n",
    "# except ValueError:\n",
    "#     print(\"nono\")"
   ]
  },
  {
   "cell_type": "code",
   "execution_count": 11,
   "metadata": {},
   "outputs": [
    {
     "name": "stdout",
     "output_type": "stream",
     "text": [
      "-1\n"
     ]
    }
   ],
   "source": [
    "print(ok)"
   ]
  },
  {
   "cell_type": "code",
   "execution_count": 8,
   "metadata": {},
   "outputs": [
    {
     "data": {
      "text/plain": [
       "2"
      ]
     },
     "execution_count": 8,
     "metadata": {},
     "output_type": "execute_result"
    }
   ],
   "source": [
    "datetime(year,superyearx1,superyearx2)\n",
    "\n",
    "superyearx2\n",
    "20110101\n",
    "20111231\n",
    "\n",
    "20000101\n",
    "20101231"
   ]
  },
  {
   "cell_type": "code",
   "execution_count": 7,
   "metadata": {},
   "outputs": [
    {
     "name": "stdout",
     "output_type": "stream",
     "text": [
      "5102\n"
     ]
    },
    {
     "ename": "NameError",
     "evalue": "name 'superyearx1' is not defined",
     "output_type": "error",
     "traceback": [
      "\u001b[0;31m---------------------------------------------------------------------------\u001b[0m",
      "\u001b[0;31mNameError\u001b[0m                                 Traceback (most recent call last)",
      "\u001b[0;32m<ipython-input-7-f92833522c8a>\u001b[0m in \u001b[0;36m<module>\u001b[0;34m\u001b[0m\n\u001b[1;32m      6\u001b[0m \u001b[0myearx\u001b[0m \u001b[0;34m=\u001b[0m \u001b[0;34m\"2015\"\u001b[0m\u001b[0;34m\u001b[0m\u001b[0;34m\u001b[0m\u001b[0m\n\u001b[1;32m      7\u001b[0m \u001b[0mchange\u001b[0m\u001b[0;34m(\u001b[0m\u001b[0myearx\u001b[0m\u001b[0;34m)\u001b[0m\u001b[0;34m\u001b[0m\u001b[0;34m\u001b[0m\u001b[0m\n\u001b[0;32m----> 8\u001b[0;31m \u001b[0msuperyearx1\u001b[0m \u001b[0;34m=\u001b[0m \u001b[0mint\u001b[0m\u001b[0;34m(\u001b[0m\u001b[0msuperyearx1\u001b[0m\u001b[0;34m)\u001b[0m\u001b[0;34m\u001b[0m\u001b[0;34m\u001b[0m\u001b[0m\n\u001b[0m\u001b[1;32m      9\u001b[0m \u001b[0msuperyearx2\u001b[0m \u001b[0;34m=\u001b[0m \u001b[0mint\u001b[0m\u001b[0;34m(\u001b[0m\u001b[0msuperyearx2\u001b[0m\u001b[0;34m)\u001b[0m\u001b[0;34m\u001b[0m\u001b[0;34m\u001b[0m\u001b[0m\n",
      "\u001b[0;31mNameError\u001b[0m: name 'superyearx1' is not defined"
     ]
    }
   ],
   "source": [
    "def change(yearxx):\n",
    "    superyearx1 = yearxx[-1:-3:-1]\n",
    "    superyearx2 = yearxx[-3:-5:-1]\n",
    "    print(superyearx1+superyearx2)\n",
    "    return superyearx1,superyearx2\n",
    "yearx = \"2015\"\n",
    "change(yearx)\n",
    "superyearx1 = int(superyearx1)\n",
    "superyearx2 = int(superyearx2)\n"
   ]
  },
  {
   "cell_type": "code",
   "execution_count": 1,
   "metadata": {},
   "outputs": [
    {
     "ename": "NameError",
     "evalue": "name 'superyearx1' is not defined",
     "output_type": "error",
     "traceback": [
      "\u001b[0;31m---------------------------------------------------------------------------\u001b[0m",
      "\u001b[0;31mNameError\u001b[0m                                 Traceback (most recent call last)",
      "\u001b[0;32m<ipython-input-1-0e3e29064cd4>\u001b[0m in \u001b[0;36m<module>\u001b[0;34m\u001b[0m\n\u001b[0;32m----> 1\u001b[0;31m \u001b[0mtype\u001b[0m\u001b[0;34m(\u001b[0m\u001b[0msuperyearx1\u001b[0m\u001b[0;34m)\u001b[0m\u001b[0;34m\u001b[0m\u001b[0;34m\u001b[0m\u001b[0m\n\u001b[0m\u001b[1;32m      2\u001b[0m \u001b[0mprint\u001b[0m\u001b[0;34m(\u001b[0m\u001b[0msuperyearx1\u001b[0m\u001b[0;34m)\u001b[0m\u001b[0;34m\u001b[0m\u001b[0;34m\u001b[0m\u001b[0m\n",
      "\u001b[0;31mNameError\u001b[0m: name 'superyearx1' is not defined"
     ]
    }
   ],
   "source": [
    "type(superyearx1)\n",
    "print(superyearx1)"
   ]
  },
  {
   "cell_type": "code",
   "execution_count": null,
   "metadata": {},
   "outputs": [],
   "source": [
    "b = lambda x: x+2 \n"
   ]
  },
  {
   "cell_type": "code",
   "execution_count": null,
   "metadata": {},
   "outputs": [],
   "source": [
    "superyearx1 = int(yearx[-1:-3:-1])\n",
    "superyearx2 = int(yearx[-3:-5:-1])\n",
    "\n",
    "d\n",
    "\n"
   ]
  },
  {
   "cell_type": "code",
   "execution_count": 11,
   "metadata": {},
   "outputs": [
    {
     "ename": "ValueError",
     "evalue": "day is out of range for month",
     "output_type": "error",
     "traceback": [
      "\u001b[0;31m---------------------------------------------------------------------------\u001b[0m",
      "\u001b[0;31mValueError\u001b[0m                                Traceback (most recent call last)",
      "\u001b[0;32m<ipython-input-11-427132048853>\u001b[0m in \u001b[0;36m<module>\u001b[0;34m\u001b[0m\n\u001b[0;32m----> 1\u001b[0;31m \u001b[0mdatetime\u001b[0m\u001b[0;34m(\u001b[0m\u001b[0;36m2014\u001b[0m\u001b[0;34m,\u001b[0m\u001b[0;36m11\u001b[0m\u001b[0;34m,\u001b[0m\u001b[0;36m31\u001b[0m\u001b[0;34m)\u001b[0m\u001b[0;34m\u001b[0m\u001b[0;34m\u001b[0m\u001b[0m\n\u001b[0m",
      "\u001b[0;31mValueError\u001b[0m: day is out of range for month"
     ]
    }
   ],
   "source": []
  },
  {
   "cell_type": "code",
   "execution_count": null,
   "metadata": {},
   "outputs": [],
   "source": []
  },
  {
   "cell_type": "code",
   "execution_count": null,
   "metadata": {},
   "outputs": [],
   "source": []
  },
  {
   "cell_type": "code",
   "execution_count": null,
   "metadata": {},
   "outputs": [],
   "source": []
  }
 ],
 "metadata": {
  "kernelspec": {
   "display_name": "Python 3",
   "language": "python",
   "name": "python3"
  },
  "language_info": {
   "codemirror_mode": {
    "name": "ipython",
    "version": 3
   },
   "file_extension": ".py",
   "mimetype": "text/x-python",
   "name": "python",
   "nbconvert_exporter": "python",
   "pygments_lexer": "ipython3",
   "version": "3.7.3"
  }
 },
 "nbformat": 4,
 "nbformat_minor": 2
}
