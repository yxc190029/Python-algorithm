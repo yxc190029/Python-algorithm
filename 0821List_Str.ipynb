{
 "cells": [
  {
   "cell_type": "code",
   "execution_count": 12,
   "metadata": {},
   "outputs": [],
   "source": [
    "def get_name():\n",
    "    name=input(\"name?\")\n",
    "    return name\n",
    "def say_name(name):\n",
    "    print(\"hi \"+name)\n",
    "def get_say_name():\n",
    "    name=get_name() #previous return will save to name tag.\n",
    "    say_name(name)"
   ]
  },
  {
   "cell_type": "code",
   "execution_count": 13,
   "metadata": {},
   "outputs": [
    {
     "name": "stdout",
     "output_type": "stream",
     "text": [
      "name?99\n",
      "hi 99\n"
     ]
    }
   ],
   "source": [
    "get_say_name()"
   ]
  },
  {
   "cell_type": "code",
   "execution_count": 1,
   "metadata": {},
   "outputs": [
    {
     "name": "stdout",
     "output_type": "stream",
     "text": [
      "j,a,c\n",
      "j,l,k\n",
      "a,c\n",
      "k,l\n",
      "j\n",
      "5\n"
     ]
    }
   ],
   "source": [
    "#碼TA No.2\n",
    "math_60 = input().split(\",\")  #use split() in input, and it will be a list\n",
    "eng_60= input().split(\",\")\n",
    "set_math= set(math_60)\n",
    "set_eng=set(eng_60)\n",
    "\n",
    "\n",
    "#math ok but eng not\n",
    "print(\",\".join(sorted(set_math-set_eng))) #只有數學的部分,被減數為剩下的\n",
    "#math not ok but eng not\n",
    "print(\",\".join(sorted(set_eng-set_math))) #join 是用特定符號間隔排列\n",
    "#both ok\n",
    "print(\",\".join(sorted(set_math&set_eng)))\n",
    "#at least one is ok   \n",
    "print(len((set_math|set_eng)))\n",
    "\n",
    "\n",
    "\n",
    "\n",
    "\n"
   ]
  },
  {
   "cell_type": "code",
   "execution_count": 32,
   "metadata": {},
   "outputs": [
    {
     "name": "stdout",
     "output_type": "stream",
     "text": [
      "Bob,Amy\n"
     ]
    }
   ],
   "source": [
    "#Amy,Bob,Woody\n",
    "#Amy,Jerry,Kevin,Bob\n",
    "print(\",\".join(list_math_eng))"
   ]
  },
  {
   "cell_type": "code",
   "execution_count": 10,
   "metadata": {},
   "outputs": [],
   "source": [
    "#ex function\n",
    "def story():\n",
    "    verb=input(\" verb \")\n",
    "    adj=input(\" adj \")\n",
    "    noun=input(\" noun \")\n",
    "    print(\"When I was 7 years old, I {} in the {} {}\".format(verb,adj,noun))"
   ]
  },
  {
   "cell_type": "code",
   "execution_count": 9,
   "metadata": {},
   "outputs": [
    {
     "name": "stdout",
     "output_type": "stream",
     "text": [
      " verb kill\n",
      " adj extraordinary\n",
      " noun thing\n",
      "When I was 7 years old, I killin the extraordinary thing\n"
     ]
    }
   ],
   "source": [
    "story()"
   ]
  },
  {
   "cell_type": "code",
   "execution_count": 5,
   "metadata": {},
   "outputs": [
    {
     "name": "stdout",
     "output_type": "stream",
     "text": [
      "man\n",
      "['cat', 'bear', 'woman', 'pig', 'Catty', 'dog']\n",
      "not find\n"
     ]
    }
   ],
   "source": [
    "list2=[\"man\",\"bear\",\"pig\"]\n",
    "#指定位置填入\n",
    "list2[0]=\"cat\"\n",
    "print(list[0])\n",
    "#extend 可以加入一個list 中的多個元素.\n",
    "list2.extend([\"Catty\",\"dog\"])\n",
    "list2.insert(2,\"woman\")\n",
    "print(list2)\n",
    "try:\n",
    "    list2.index(\"man\")\n",
    "except:\n",
    "    print(\"not find\")"
   ]
  },
  {
   "cell_type": "code",
   "execution_count": 7,
   "metadata": {},
   "outputs": [
    {
     "name": "stdout",
     "output_type": "stream",
     "text": [
      "['Catty', 'bear', 'cat', 'dog', 'pig', 'woman']\n"
     ]
    }
   ],
   "source": [
    "list2.sort()\n",
    "print(list2)"
   ]
  },
  {
   "cell_type": "code",
   "execution_count": 35,
   "metadata": {},
   "outputs": [
    {
     "name": "stdout",
     "output_type": "stream",
     "text": [
      "6\n",
      "6\n"
     ]
    }
   ],
   "source": [
    "zz=0\n",
    "for i in list:\n",
    "      if zz < len(list):\n",
    "        zz += 1\n",
    "print(zz)    \n",
    "#用while\n",
    "while zz <len(list):\n",
    "    zz+=1\n",
    "else:\n",
    "    print(zz)\n"
   ]
  },
  {
   "cell_type": "code",
   "execution_count": 38,
   "metadata": {},
   "outputs": [],
   "source": [
    "list.insert(1,\"gorila\")"
   ]
  },
  {
   "cell_type": "code",
   "execution_count": 1,
   "metadata": {},
   "outputs": [
    {
     "data": {
      "text/plain": [
       "list"
      ]
     },
     "execution_count": 1,
     "metadata": {},
     "output_type": "execute_result"
    }
   ],
   "source": [
    "list"
   ]
  },
  {
   "cell_type": "code",
   "execution_count": 27,
   "metadata": {},
   "outputs": [
    {
     "name": "stdout",
     "output_type": "stream",
     "text": [
      "Amy\n",
      "Charlie\n",
      "Wood\n"
     ]
    }
   ],
   "source": [
    "mylist = [\"Wood\", \"Charlie\", \"Amy\"]\n",
    "\n",
    "mylist.sort()\n",
    "\n",
    "for x in sorted(mylist):\n",
    "\n",
    "    print (x)"
   ]
  },
  {
   "cell_type": "code",
   "execution_count": 39,
   "metadata": {},
   "outputs": [
    {
     "data": {
      "text/plain": [
       "tuple"
      ]
     },
     "execution_count": 39,
     "metadata": {},
     "output_type": "execute_result"
    }
   ],
   "source": [
    "z=(1,)\n",
    "type(z)"
   ]
  },
  {
   "cell_type": "code",
   "execution_count": null,
   "metadata": {},
   "outputs": [],
   "source": []
  }
 ],
 "metadata": {
  "kernelspec": {
   "display_name": "Python 3",
   "language": "python",
   "name": "python3"
  },
  "language_info": {
   "codemirror_mode": {
    "name": "ipython",
    "version": 3
   },
   "file_extension": ".py",
   "mimetype": "text/x-python",
   "name": "python",
   "nbconvert_exporter": "python",
   "pygments_lexer": "ipython3",
   "version": "3.8.0"
  }
 },
 "nbformat": 4,
 "nbformat_minor": 2
}
