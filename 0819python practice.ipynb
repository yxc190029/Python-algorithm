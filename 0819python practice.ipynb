{
 "cells": [
  {
   "cell_type": "code",
   "execution_count": 1,
   "metadata": {},
   "outputs": [
    {
     "name": "stdout",
     "output_type": "stream",
     "text": [
      "Susan said:\"I am a boy\"\n"
     ]
    }
   ],
   "source": [
    "print(\"Susan said:\\\"I am a boy\\\"\")"
   ]
  },
  {
   "cell_type": "code",
   "execution_count": 74,
   "metadata": {},
   "outputs": [
    {
     "name": "stdout",
     "output_type": "stream",
     "text": [
      "happy happy happy \n",
      "12.345\n"
     ]
    }
   ],
   "source": [
    "print(\"happy \" * 3)\n",
    "a = 12.345\n",
    "print(\"%.3f\" % a)"
   ]
  },
  {
   "cell_type": "code",
   "execution_count": 43,
   "metadata": {},
   "outputs": [
    {
     "name": "stdout",
     "output_type": "stream",
     "text": [
      "i love python. python love me\n"
     ]
    }
   ],
   "source": [
    "print(\"i {1} {0}. {0} {1} me\".format(\"python\",\"love\") ) #可以直接指定位置"
   ]
  },
  {
   "cell_type": "code",
   "execution_count": 6,
   "metadata": {},
   "outputs": [
    {
     "name": "stdout",
     "output_type": "stream",
     "text": [
      "i love python.\n"
     ]
    }
   ],
   "source": [
    "A= \"i\"\n",
    "B= \"love\"\n",
    "C= \"python\"\n",
    "print(\"{} {} {}.\".format(A,B,C))"
   ]
  },
  {
   "cell_type": "code",
   "execution_count": 7,
   "metadata": {},
   "outputs": [
    {
     "name": "stdout",
     "output_type": "stream",
     "text": [
      "kite|cat\n"
     ]
    }
   ],
   "source": [
    "print(\"{0:3}|{1:3}\".format(\"kite\",\"cat\"))"
   ]
  },
  {
   "cell_type": "code",
   "execution_count": 41,
   "metadata": {},
   "outputs": [
    {
     "name": "stdout",
     "output_type": "stream",
     "text": [
      "kite   |    3.3334\n"
     ]
    }
   ],
   "source": [
    "print(\"{0:3}   |    {1:4}\".format(\"kite\", 3.3334 )) #3 => at least 3 character wide #0,start point   ###<?"
   ]
  },
  {
   "cell_type": "code",
   "execution_count": 64,
   "metadata": {},
   "outputs": [
    {
     "name": "stdout",
     "output_type": "stream",
     "text": [
      "Here is an animal, a vegetable, and a mineral.\n",
      "cat\n",
      "broccoli\n",
      "calcium\n"
     ]
    }
   ],
   "source": [
    "#ex1\n",
    "print(\"Here is an animal, a vegetable, and a mineral.\")\n",
    "animal=\"cat\"\n",
    "veg=\"broccoli\"\n",
    "mineral=\"calcium\"\n",
    "print(\"{0}\\n{1}\\n{2}\".format(animal,veg,mineral))\n"
   ]
  },
  {
   "cell_type": "code",
   "execution_count": 100,
   "metadata": {},
   "outputs": [
    {
     "name": "stdout",
     "output_type": "stream",
     "text": [
      "Please type something and press enter:gg\n",
      "you entered: \n",
      "5566 \n"
     ]
    }
   ],
   "source": [
    "#ex2\n",
    "input(\"Please type something and press enter:\")\n",
    "print(\"you entered: \\n\" +z,\"\")\n",
    "\n"
   ]
  },
  {
   "cell_type": "code",
   "execution_count": 117,
   "metadata": {},
   "outputs": [
    {
     "name": "stdout",
     "output_type": "stream",
     "text": [
      "sksksk sksksk\n",
      "         _____________\n",
      "         sksksk sksksk\n",
      "         -------------\n",
      "        /\n",
      " /\\_/\\ / \n",
      "( o.o )\n",
      " > ^ < \n"
     ]
    }
   ],
   "source": [
    "#ex3\n",
    "K=input()\n",
    "number_k= len(K)\n",
    "print(\"         {}\".format(\"_\"*number_k)+\"\\n\" +\"         {}\".format(K)+ \"\\n\", \"        {}\".format(\"-\"*number_k))\n",
    "print(\"        /\")\n",
    "print(\" /\\_/\\ / \") \n",
    "print(\"( o.o )\")\n",
    "print(\" > ^ < \")\n",
    "        \n",
    "        \n",
    " "
   ]
  },
  {
   "cell_type": "code",
   "execution_count": 118,
   "metadata": {},
   "outputs": [
    {
     "data": {
      "text/plain": [
       "False"
      ]
     },
     "execution_count": 118,
     "metadata": {},
     "output_type": "execute_result"
    }
   ],
   "source": [
    "2==4"
   ]
  },
  {
   "cell_type": "code",
   "execution_count": 120,
   "metadata": {},
   "outputs": [
    {
     "name": "stdout",
     "output_type": "stream",
     "text": [
      "tr\n"
     ]
    }
   ],
   "source": [
    "if 20>5:\n",
    "    print(\"tr\")"
   ]
  },
  {
   "cell_type": "code",
   "execution_count": 123,
   "metadata": {},
   "outputs": [
    {
     "name": "stdout",
     "output_type": "stream",
     "text": [
      "how far do you want to travel(miles): 400\n",
      "I suggest flying to your destination.\n"
     ]
    }
   ],
   "source": [
    "#boolean ex3\n",
    "m=input(\"how far do you want to travel(miles): \")\n",
    "if int(m) >300:\n",
    "    print(\"I suggest flying to your destination.\")\n",
    "else:\n",
    "    print(\"walk\")"
   ]
  },
  {
   "cell_type": "code",
   "execution_count": 131,
   "metadata": {},
   "outputs": [
    {
     "name": "stdout",
     "output_type": "stream",
     "text": [
      "Hi,k\n"
     ]
    }
   ],
   "source": [
    "#default value\n",
    "def hi_function(name=\"there\"):\n",
    "    print(\"Hi,{}\".format(name))\n",
    "hi_function(\"k\")"
   ]
  },
  {
   "cell_type": "code",
   "execution_count": 132,
   "metadata": {},
   "outputs": [
    {
     "name": "stdout",
     "output_type": "stream",
     "text": [
      "lower: [0, 1, 2, 3, 4]\n",
      "upper: [5, 6, 7, 8, 9]\n"
     ]
    }
   ],
   "source": [
    "# set the midpoint\n",
    "midpoint = 5\n",
    "\n",
    "# make two empty lists\n",
    "lower = []; upper = []\n",
    "\n",
    "# split the numbers into lower and upper\n",
    "for i in range(10):\n",
    "    if (i < midpoint):\n",
    "        lower.append(i)\n",
    "    else:\n",
    "        upper.append(i)\n",
    "        \n",
    "print(\"lower:\", lower)\n",
    "print(\"upper:\", upper)"
   ]
  },
  {
   "cell_type": "code",
   "execution_count": null,
   "metadata": {},
   "outputs": [],
   "source": []
  }
 ],
 "metadata": {
  "kernelspec": {
   "display_name": "Python 3",
   "language": "python",
   "name": "python3"
  },
  "language_info": {
   "codemirror_mode": {
    "name": "ipython",
    "version": 3
   },
   "file_extension": ".py",
   "mimetype": "text/x-python",
   "name": "python",
   "nbconvert_exporter": "python",
   "pygments_lexer": "ipython3",
   "version": "3.7.3"
  }
 },
 "nbformat": 4,
 "nbformat_minor": 2
}
