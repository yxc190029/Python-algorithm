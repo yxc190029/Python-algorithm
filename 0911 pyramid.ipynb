{
 "cells": [
  {
   "cell_type": "code",
   "execution_count": 28,
   "metadata": {},
   "outputs": [
    {
     "name": "stdout",
     "output_type": "stream",
     "text": [
      "7\n",
      "      *\n",
      "     * *\n",
      "    * * *\n",
      "   * * * *\n",
      "  * * * * *\n",
      " * * * * * *\n",
      "* * * * * * *\n"
     ]
    }
   ],
   "source": [
    "#金字塔\n",
    "number=int(input())\n",
    "for i in range(number):\n",
    "    a=\"* \"\n",
    "    b=a * (i) + \"*\"\n",
    "    c = \" \" * (number-(i+1))\n",
    "    #不+1 從0 開始,無法實現n個金字塔會有 n-1的空格,如該情況第一行為n 空格, 最後一行為1空格,但最後一行不應該有空格\n",
    "    print(c+b)"
   ]
  },
  {
   "cell_type": "code",
   "execution_count": 86,
   "metadata": {},
   "outputs": [
    {
     "name": "stdout",
     "output_type": "stream",
     "text": [
      "[1, 1, 2, 3, 5, 8, 13]\n"
     ]
    }
   ],
   "source": [
    "#fib\n",
    "def fib(N):\n",
    "    list_fib = [0,1]\n",
    "\n",
    "    if N == 0:\n",
    "        print(0)\n",
    "    for i in range(N-1):\n",
    "        if N == 1:\n",
    "            print(1)\n",
    "        if N > 1:\n",
    "            next_one = list_fib[i] + list_fib[i+1]  \n",
    "            list_fib.append(next_one)\n",
    "    list_fib.remove(0)\n",
    "    print(list_fib)\n",
    "#陣列相加會並列,不會數值加總   \n",
    "#指定欄位相加會得到數值\n",
    "fib(7)"
   ]
  },
  {
   "cell_type": "code",
   "execution_count": 83,
   "metadata": {},
   "outputs": [
    {
     "name": "stdout",
     "output_type": "stream",
     "text": [
      "1\n",
      "2\n",
      "3\n",
      "5\n",
      "8\n",
      "13\n",
      "[1, 1, 2, 3, 5, 8, 13]\n"
     ]
    }
   ],
   "source": [
    "fib(7)"
   ]
  },
  {
   "cell_type": "code",
   "execution_count": 62,
   "metadata": {},
   "outputs": [
    {
     "name": "stdout",
     "output_type": "stream",
     "text": [
      "4\n",
      "[1, 1, 2, 3]\n"
     ]
    }
   ],
   "source": [
    "#fib\n",
    "N = int(input())\n",
    "list_fib = [0,1]\n",
    "\n",
    "if N == 0:\n",
    "    print(0)\n",
    "for i in range(N-1):\n",
    "    if N == 1:\n",
    "        print(1)\n",
    "    if N > 1:\n",
    "        next_one = list_fib[i] + list_fib[i+1]    \n",
    "        list_fib.append(next_one)\n",
    "        \n",
    "list_fib.remove(0)\n",
    "\n",
    "print(list_fib)"
   ]
  },
  {
   "cell_type": "code",
   "execution_count": 6,
   "metadata": {},
   "outputs": [
    {
     "name": "stdout",
     "output_type": "stream",
     "text": [
      "170\n",
      "63\n",
      "21.80\n"
     ]
    }
   ],
   "source": [
    "#BMI\n",
    "height1 = int(input())\n",
    "height = height1 / 100  \n",
    "weight = int(input())\n",
    "\n",
    "BMI = weight / height**2\n",
    "print(\"{:.1f}\".format(BMI))"
   ]
  },
  {
   "cell_type": "code",
   "execution_count": 70,
   "metadata": {},
   "outputs": [
    {
     "name": "stdout",
     "output_type": "stream",
     "text": [
      "[1, 1, 2, 3]\n"
     ]
    }
   ],
   "source": []
  },
  {
   "cell_type": "code",
   "execution_count": null,
   "metadata": {},
   "outputs": [],
   "source": []
  }
 ],
 "metadata": {
  "kernelspec": {
   "display_name": "Python 3",
   "language": "python",
   "name": "python3"
  },
  "language_info": {
   "codemirror_mode": {
    "name": "ipython",
    "version": 3
   },
   "file_extension": ".py",
   "mimetype": "text/x-python",
   "name": "python",
   "nbconvert_exporter": "python",
   "pygments_lexer": "ipython3",
   "version": "3.7.3"
  }
 },
 "nbformat": 4,
 "nbformat_minor": 2
}
