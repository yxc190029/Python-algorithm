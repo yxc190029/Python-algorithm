{
 "cells": [
  {
   "cell_type": "code",
   "execution_count": 28,
   "metadata": {},
   "outputs": [
    {
     "name": "stdout",
     "output_type": "stream",
     "text": [
      "3\n",
      "60 636\n",
      "2440\n",
      "101 168\n",
      "20\n",
      "100 1344\n",
      "156\n"
     ]
    }
   ],
   "source": [
    "number = int(input())\n",
    "for i in range(number):\n",
    "    two_n = input().split(\" \") \n",
    "    two_n1 = int(two_n[0])\n",
    "    two_n2 = int(two_n[1])\n",
    "#找出最接近的quare root\n",
    "    intergg = int(((two_n1**(1/2))//1) +1)\n",
    "\n",
    "    while True:\n",
    "        diff = ((int(intergg))**2) -two_n1\n",
    "        if ((two_n1+diff+two_n2)**(1/2)).is_integer() == True:\n",
    "            print(diff)\n",
    "            break\n",
    "        else:\n",
    "            intergg += 1\n",
    "\n",
    "\n",
    "\n",
    "# if (two_n1**(1/2)).is_integer() == True :\n",
    "#     nearest_square = i+1\n",
    "#     print(\"nono\",nearest_square)\n",
    "\n",
    "#看不懂題目\n",
    "\n",
    "\n"
   ]
  },
  {
   "cell_type": "code",
   "execution_count": 5,
   "metadata": {},
   "outputs": [
    {
     "name": "stdout",
     "output_type": "stream",
     "text": [
      "3.5234\n"
     ]
    }
   ],
   "source": [
    "a= 2.5234\n",
    "round(a,0)\n",
    " \n"
   ]
  },
  {
   "cell_type": "code",
   "execution_count": 12,
   "metadata": {},
   "outputs": [
    {
     "name": "stdout",
     "output_type": "stream",
     "text": [
      "12\n",
      "13\n",
      "14\n",
      "15\n",
      "16\n",
      "17\n",
      "18\n",
      "19\n",
      "20\n",
      "21\n"
     ]
    }
   ],
   "source": [
    "type(intergg)\n",
    "for i in range(10):\n",
    "    intergg += 1\n",
    "    print(intergg)\n"
   ]
  },
  {
   "cell_type": "code",
   "execution_count": null,
   "metadata": {},
   "outputs": [],
   "source": []
  }
 ],
 "metadata": {
  "kernelspec": {
   "display_name": "Python 3",
   "language": "python",
   "name": "python3"
  },
  "language_info": {
   "codemirror_mode": {
    "name": "ipython",
    "version": 3
   },
   "file_extension": ".py",
   "mimetype": "text/x-python",
   "name": "python",
   "nbconvert_exporter": "python",
   "pygments_lexer": "ipython3",
   "version": "3.7.3"
  }
 },
 "nbformat": 4,
 "nbformat_minor": 2
}
