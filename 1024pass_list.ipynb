{
 "cells": [
  {
   "cell_type": "code",
   "execution_count": 103,
   "metadata": {},
   "outputs": [
    {
     "name": "stdout",
     "output_type": "stream",
     "text": [
      "3\n",
      "Alex 10 100 100 100 100\n",
      "lex 10 100 100 100 100\n",
      "ex 10 100 100 100 100\n",
      "Chinese\n",
      "NO\n"
     ]
    }
   ],
   "source": [
    "number = int(input())\n",
    "dict_A = {}\n",
    "people = []\n",
    "passok = set([])\n",
    "passbook2 = []\n",
    "for i in range(number):\n",
    "    allthing = input().split(\" \")\n",
    "    people.append(allthing[0])\n",
    "    score = [allthing[1],allthing[2],allthing[3],allthing[4],allthing[5]]\n",
    "    score = list(map(int,score))\n",
    "    dict_A[i] = [score[0],score[1],score[2],score[3],score[4]]\n",
    "passlist = input().split(\" \")\n",
    "pass_topic = [\"Chinese\",\"English\",\"Math\",\"Science\",\"Society\"]\n",
    "\n",
    "for K in range(len(passlist)):\n",
    "    position = pass_topic.index(passlist[K])\n",
    "    for w in range(number):\n",
    "\n",
    "        if dict_A[w][position] >= 60: \n",
    "            passok.add(people[w])\n",
    "            #加入set 去重複\n",
    "            passbook2 = list(passok)\n",
    "if not passbook2:\n",
    "    print(\"NO\")\n",
    "else:\n",
    "    passbook2.sort()\n",
    "    print(\",\".join(passbook2))\n",
    "\n",
    "#去掉quotation, 直接用print(\",\".join(passbook2))\n",
    "\n",
    "#放入set的不會有重複\n",
    "                \n",
    "#intprices = intprices.sort()\n",
    "\n",
    "#The .sort() method on a list operates on the list in-place, and returns None. Just change it to:\n",
    "\n",
    "#intprices.sort()\n",
    "    \n",
    "    \n",
    "    \n",
    "    \n"
   ]
  },
  {
   "cell_type": "code",
   "execution_count": 99,
   "metadata": {},
   "outputs": [
    {
     "name": "stdout",
     "output_type": "stream",
     "text": [
      "['Alex', 'Amy', 'Bob']\n"
     ]
    }
   ],
   "source": [
    "print(passbook2)"
   ]
  },
  {
   "cell_type": "code",
   "execution_count": 98,
   "metadata": {},
   "outputs": [],
   "source": [
    "passbook2.sort()\n"
   ]
  },
  {
   "cell_type": "code",
   "execution_count": 35,
   "metadata": {},
   "outputs": [
    {
     "data": {
      "text/plain": [
       "1"
      ]
     },
     "execution_count": 35,
     "metadata": {},
     "output_type": "execute_result"
    }
   ],
   "source": [
    "pass_topic = [\"Chinese\",\"English\",\"Math\",\"Science\",\"Society\"]\n",
    "pass_topic.index(\"English\")"
   ]
  },
  {
   "cell_type": "code",
   "execution_count": 39,
   "metadata": {},
   "outputs": [
    {
     "name": "stdout",
     "output_type": "stream",
     "text": [
      "['b', 'a', 'd', 'c']\n"
     ]
    }
   ],
   "source": [
    "l1 = ['b','c','d','b','c','a','a']\n",
    "l2 = list(set(l1))\n",
    "print(l2)\n"
   ]
  },
  {
   "cell_type": "code",
   "execution_count": 78,
   "metadata": {},
   "outputs": [
    {
     "data": {
      "text/plain": [
       "['Alex', 'QQ', 'QQ', 'QQ']"
      ]
     },
     "execution_count": 78,
     "metadata": {},
     "output_type": "execute_result"
    }
   ],
   "source": [
    "passbook2"
   ]
  },
  {
   "cell_type": "code",
   "execution_count": null,
   "metadata": {},
   "outputs": [],
   "source": []
  }
 ],
 "metadata": {
  "kernelspec": {
   "display_name": "Python 3",
   "language": "python",
   "name": "python3"
  },
  "language_info": {
   "codemirror_mode": {
    "name": "ipython",
    "version": 3
   },
   "file_extension": ".py",
   "mimetype": "text/x-python",
   "name": "python",
   "nbconvert_exporter": "python",
   "pygments_lexer": "ipython3",
   "version": "3.7.3"
  }
 },
 "nbformat": 4,
 "nbformat_minor": 2
}
