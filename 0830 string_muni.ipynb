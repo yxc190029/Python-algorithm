{
 "cells": [
  {
   "cell_type": "code",
   "execution_count": 32,
   "metadata": {},
   "outputs": [
    {
     "name": "stdout",
     "output_type": "stream",
     "text": [
      "your tax is__\n",
      "55001\n",
      "2750\n"
     ]
    }
   ],
   "source": [
    "#所得稅\n",
    "x=int(input(\"your tax is__\\n\"))\n",
    "#直接input 數字 也會變字串\n",
    "#如果不用elif 直接接else的話, if 執行過一次後, else 還會再跑一次, 每個if 是獨立個體\n",
    "if x < 540001:\n",
    "    print(round(x*0.05))\n",
    "elif 540001 <= x < 1210001:\n",
    "    print(round(x*0.12))\n",
    "elif 1210001 <= x < 2420001:\n",
    "    print(round(x*0.20))\n",
    "elif 2420001 <= x < 4530001:\n",
    "    print(round(x*0.30))\n",
    "elif 4530001 <= x < 10310001:\n",
    "    print(round(x*0.40))\n",
    "else:\n",
    "    print(round(x*0.45))"
   ]
  },
  {
   "cell_type": "code",
   "execution_count": 7,
   "metadata": {},
   "outputs": [
    {
     "name": "stdout",
     "output_type": "stream",
     "text": [
      "5 5\n",
      "350\n"
     ]
    }
   ],
   "source": [
    "#刮刮樂\n",
    "\n",
    "x = input()\n",
    "x = x.split(\" \")\n",
    "#切成分開單位一定用空格\n",
    "y1 = int(x[0])\n",
    "y2 = int(x[1])\n",
    "\n",
    "i=0\n",
    "if y1 % 2 == 1:\n",
    "    i += 100     \n",
    "#? \n",
    "if y2 == 2 or y2 == 5 or y2 == 8:\n",
    "#如果寫 2 or 5 or 8 一定會 return true\n",
    "    i += 200\n",
    "if y1 == y2:\n",
    "    i += 50\n",
    "print(\"{}\".format(i))\n"
   ]
  },
  {
   "cell_type": "code",
   "execution_count": 24,
   "metadata": {},
   "outputs": [
    {
     "name": "stdout",
     "output_type": "stream",
     "text": [
      "Type <String + Space + Number> or <ok>: i 3\n",
      "Type <String + Space + Number> or <ok>: love 1\n",
      "Type <String + Space + Number> or <ok>: you 2\n",
      "Type <String + Space + Number> or <ok>: ok\n",
      "{2: 'i', 0: 'love', 1: 'you'}\n",
      " love you i.\n"
     ]
    }
   ],
   "source": [
    "# 字串進步堂\n",
    "def read_user_input():\n",
    "    input_list = []\n",
    "    while (True):\n",
    "        single_input = input(\"Type <String + Space + Number> or <ok>: \")\n",
    "        if (single_input == 'ok'):\n",
    "             break\n",
    "        else:\n",
    "            input_list.append(single_input)\n",
    " \n",
    "    return input_list\n",
    "\n",
    "input_list = read_user_input()\n",
    "input_dict = {}\n",
    "\n",
    "for single_input in input_list:\n",
    "    #single input 是 love 3....etc/\n",
    "    word = single_input.split(' ')[0]\n",
    "    index = int(single_input.split(' ')[1]) - 1\n",
    "    #送入dic 不用i指代.\n",
    "    input_dict.update({index:word})\n",
    "    #a set in list\n",
    "\n",
    "print(input_dict)\n",
    "\n",
    "result = '' \n",
    "for i in range(len(input_dict)):\n",
    "    #i從0開始算\n",
    "    \n",
    "    \n",
    "    result = result + ' ' + input_dict.get(i)\n",
    "    #寫result 是為了格式\n",
    "    #透過get 把key對應value抓出來,key剛好是迴圈i的內容\n",
    "result = result + '.'\n",
    "print(result)"
   ]
  },
  {
   "cell_type": "code",
   "execution_count": 22,
   "metadata": {},
   "outputs": [
    {
     "name": "stdout",
     "output_type": "stream",
     "text": [
      "{'c': 300} {'a': 100, 'b': 200}\n",
      "300\n"
     ]
    }
   ],
   "source": [
    "D2 = dict( [ ['a', 100], ['b', 200] ] ) \n",
    "D3 =  {'c': 300}\n",
    "print(D3,D2)\n",
    "\n"
   ]
  },
  {
   "cell_type": "code",
   "execution_count": null,
   "metadata": {},
   "outputs": [],
   "source": []
  }
 ],
 "metadata": {
  "kernelspec": {
   "display_name": "Python 3",
   "language": "python",
   "name": "python3"
  },
  "language_info": {
   "codemirror_mode": {
    "name": "ipython",
    "version": 3
   },
   "file_extension": ".py",
   "mimetype": "text/x-python",
   "name": "python",
   "nbconvert_exporter": "python",
   "pygments_lexer": "ipython3",
   "version": "3.7.3"
  }
 },
 "nbformat": 4,
 "nbformat_minor": 2
}
