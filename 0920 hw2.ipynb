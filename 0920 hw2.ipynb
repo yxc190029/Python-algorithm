{
 "cells": [
  {
   "cell_type": "code",
   "execution_count": 6,
   "metadata": {},
   "outputs": [
    {
     "name": "stdout",
     "output_type": "stream",
     "text": [
      "0.04683938172732316\n"
     ]
    }
   ],
   "source": [
    "#1\n",
    "import math\n",
    "FV = 300\n",
    "PV = 100\n",
    "m = 72\n",
    "q = 3\n",
    "i= math.exp(math.log(FV/PV)/(m/q))-1\n",
    "print(i)"
   ]
  },
  {
   "cell_type": "code",
   "execution_count": 4,
   "metadata": {},
   "outputs": [
    {
     "name": "stdout",
     "output_type": "stream",
     "text": [
      "5669383.21\n"
     ]
    }
   ],
   "source": [
    "##2\n",
    "FV = 540000\n",
    "c = 0\n",
    "for i in range(16):\n",
    "    b = (((1.05)**i)*(FV/(1+0.1)**(i+1)))\n",
    "    c = c+b\n",
    "print(\"{:.2f}\".format(c))\n",
    "\n"
   ]
  },
  {
   "cell_type": "code",
   "execution_count": 2,
   "metadata": {},
   "outputs": [
    {
     "name": "stdout",
     "output_type": "stream",
     "text": [
      "56.00020888226171\n"
     ]
    }
   ],
   "source": [
    "##3\n",
    "n = math.log((25694*0.08/12/ 380)+1)/math.log(1+0.08/12) \n",
    "print(n)\n",
    "\n"
   ]
  },
  {
   "cell_type": "code",
   "execution_count": null,
   "metadata": {},
   "outputs": [],
   "source": [
    "import numpy as np\n",
    "np.nper()"
   ]
  },
  {
   "cell_type": "code",
   "execution_count": 59,
   "metadata": {},
   "outputs": [
    {
     "name": "stdout",
     "output_type": "stream",
     "text": [
      "1132741.2486890033\n"
     ]
    }
   ],
   "source": [
    "#4\n",
    "import numpy as np\n",
    "affordable_amount = 800*(1-(1+0.076/12)**(-360))/(0.076/12)\n",
    "pv_of_remaining = 230000 - affordable_amount\n",
    "fv = pv_of_remaining * (1+0.076/12)**360\n",
    "print(fv)"
   ]
  },
  {
   "cell_type": "code",
   "execution_count": 17,
   "metadata": {},
   "outputs": [
    {
     "name": "stdout",
     "output_type": "stream",
     "text": [
      "0.08358793816266358\n",
      "0.08686582059532899\n"
     ]
    }
   ],
   "source": [
    "##5-1 APR\n",
    "import numpy as np\n",
    "APR = np.rate(360,-17000,2240000,0)*12\n",
    "print(APR)\n",
    "#5-2 EAR\n",
    "EAR = (1+APR/12)**(12)-1\n",
    "print(EAR)\n"
   ]
  },
  {
   "cell_type": "code",
   "execution_count": 8,
   "metadata": {},
   "outputs": [
    {
     "name": "stdout",
     "output_type": "stream",
     "text": [
      "143903.89504359278\n"
     ]
    }
   ],
   "source": [
    "#6\n",
    "#6year\n",
    "\n",
    "PV1 =1700* (1-((1+0.13/12))**(-72))/0.13*12\n",
    "#print(PV1)\n",
    "\n",
    "#10years\n",
    "ten_year = 1700* (1-((1+0.1/12))**(-120))/0.1*12\n",
    "PV2 = ten_year/(1+0.13/12)**72\n",
    "print(PV1+PV2)\n"
   ]
  },
  {
   "cell_type": "code",
   "execution_count": 7,
   "metadata": {},
   "outputs": [
    {
     "name": "stdout",
     "output_type": "stream",
     "text": [
      "877.04\n"
     ]
    }
   ],
   "source": [
    "#7\n",
    "monthly_payment = 43000*0.0825/12/(-1+(1+0.0825/12)**(-60))\n",
    "print(\"{:.2f}\".format(-1*monthly_payment))"
   ]
  },
  {
   "cell_type": "code",
   "execution_count": 17,
   "metadata": {},
   "outputs": [
    {
     "name": "stdout",
     "output_type": "stream",
     "text": [
      "0.13402061855670103\n"
     ]
    }
   ],
   "source": [
    "##8 \n",
    "money_actual_borrow = 5000*0.97\n",
    "ANS = ((5000*0.1)+(5000*0.03))/money_actual_borrow  \n",
    "print(ANS)"
   ]
  },
  {
   "cell_type": "code",
   "execution_count": 1,
   "metadata": {},
   "outputs": [
    {
     "data": {
      "text/plain": [
       "0.11159958017014464"
      ]
     },
     "execution_count": 1,
     "metadata": {},
     "output_type": "execute_result"
    }
   ],
   "source": [
    "#Python Code Creation for Bonds\n",
    "##1\n",
    "from scipy import optimize\n",
    "price =850.46\n",
    "par = 1000\n",
    "T = 14\n",
    "coup= 9\n",
    "freq = 1\n",
    "periods = T*freq\n",
    "\n",
    "coupon = coup/100./freq*par\n",
    "ytm_func = lambda ytm :\\\n",
    "sum ([coupon/(1+ ytm/freq)**(i+1) for i in range (periods)]) + par / (1 + ytm/freq)**(periods) - price\n",
    "optimize.newton(ytm_func, x0=0)\n",
    "#x0=0 shows the actual zero"
   ]
  },
  {
   "cell_type": "code",
   "execution_count": 3,
   "metadata": {},
   "outputs": [
    {
     "name": "stdout",
     "output_type": "stream",
     "text": [
      "92.13195232090902\n"
     ]
    }
   ],
   "source": [
    "##2\n",
    "#PVIFA = (1 - (1 + r)^-n) / r\n",
    "#PVIF = a/(1+r)**n\n",
    "PVIFA = (1-(1.099)**(-6))/0.099\n",
    "PVIF = 1000*(1/(1+0.099)**6)\n",
    "c = ((970-PVIF)/PVIFA )/1000 \n",
    "print(c)"
   ]
  },
  {
   "cell_type": "code",
   "execution_count": 18,
   "metadata": {},
   "outputs": [
    {
     "data": {
      "text/plain": [
       "0.09165601527200067"
      ]
     },
     "execution_count": 18,
     "metadata": {},
     "output_type": "execute_result"
    }
   ],
   "source": [
    "#3\n",
    "\n",
    "price =1020\n",
    "par = 1000\n",
    "T = 17\n",
    "coup= 0.094\n",
    "freq = 2\n",
    "periods = T*freq\n",
    "\n",
    "coupon = coup/freq*par\n",
    "ytm_func = lambda ytm :\\\n",
    "sum ([coupon/(1+ ytm/freq)**(i+1) for i in range (periods)]) + par / (1 + ytm/freq)**(periods) - price\n",
    "optimize.newton(ytm_func, x0=0)\n",
    "\n",
    "\n",
    "\n",
    "\n",
    "# PVIFA = (1-(1+r)**(-34))/r\n",
    "# PVIF = 1000*(1/(1+r)**34)\n",
    "# coupon = 1000*(0.094/2)\n",
    "# #coupon*PVIFA + 1000*PVIF = 1000*1.02\n",
    "\n",
    "# YTM = lambda r :\\\n",
    "# coupon*((1-(1+r/2)**(-34))/(r/2)) + 1000*(1/(1+r/2)**34) -1020 \n",
    "# optimize.newton(YTM, x0=0)\n",
    "#need to know r\n",
    "#coupon rate *2 (semi)= ytm\n",
    "#\n",
    "# price =850.46\n",
    "# par = 1000\n",
    "# T = 14\n",
    "# coup= 9\n",
    "# freq = 1\n",
    "# periods = T*freq\n",
    "\n",
    "# coupon = coup/100./freq*par\n",
    "# ytm_func = lambda ytm :\\\n",
    "# sum ([coupon/(1+ ytm/freq)**(i+1) for i in range (periods)]) + par / (1 + ytm/freq)**(periods) - price\n",
    "# optimize.newton(ytm_func, x0=0)\n",
    "# #x0=0 shows the actual zero\n"
   ]
  },
  {
   "cell_type": "code",
   "execution_count": 5,
   "metadata": {},
   "outputs": [
    {
     "name": "stdout",
     "output_type": "stream",
     "text": [
      "0.07610000000000006\n"
     ]
    }
   ],
   "source": [
    "#4\n",
    "#1+real interst * 1+inflation rate -1 \n",
    "treasury_rate = (1.055*1.02)-1\n",
    "print(treasury_rate)"
   ]
  },
  {
   "cell_type": "code",
   "execution_count": 6,
   "metadata": {},
   "outputs": [
    {
     "name": "stdout",
     "output_type": "stream",
     "text": [
      "0.042857142857142705\n"
     ]
    }
   ],
   "source": [
    "##5  \n",
    "real_intt = (1.095/1.05)-1\n",
    "print(real_intt)"
   ]
  },
  {
   "cell_type": "code",
   "execution_count": 20,
   "metadata": {},
   "outputs": [
    {
     "name": "stdout",
     "output_type": "stream",
     "text": [
      "-0.10692844547248581\n",
      "-0.09535551583142135\n",
      "0.12259299573669302\n",
      "0.10859802159310983\n"
     ]
    }
   ],
   "source": [
    "#6 \n",
    "#6-a\n",
    "PVIFA = (1-(1+0.035)**(-14))/0.035\n",
    "PVIF = (1+0.035)**14\n",
    "PVIFA2 = (1-(1+0.045)**(-14))/0.045\n",
    "PVIF2 =(1+0.045)**14\n",
    "P_j1 = 25*PVIFA + 1000/PVIF\n",
    "P_j2 = 25*PVIFA2 + 1000/PVIF2\n",
    "print((P_j2 - P_j1)/P_j1)\n",
    "#6-b\n",
    "PVIFA = (1-(1+0.035)**(-14))/0.035\n",
    "PVIF = (1+0.035)**14\n",
    "PVIFA2 = (1-(1+0.045)**(-14))/0.045\n",
    "PVIF2 =(1+0.045)**14\n",
    "P_k1 = 55*PVIFA + 1000/PVIF\n",
    "P_k2 = 55*PVIFA2 + 1000/PVIF2\n",
    "print((P_k2 - P_k1)/P_k1)\n",
    "#6-c\n",
    "PVIFA = (1-(1+0.035)**(-14))/0.035\n",
    "PVIF = (1+0.035)**14\n",
    "PVIFA2 = (1-(1+0.025)**(-14))/0.025\n",
    "PVIF2 =(1+0.025)**14\n",
    "P_j3 = 25*PVIFA + 1000/PVIF\n",
    "P_j4 =  25*PVIFA2 + 1000/PVIF2\n",
    "print((P_j4 - P_j3)/P_j3)\n",
    "#6-d\n",
    "PVIFA = (1-(1+0.035)**(-14))/0.035\n",
    "PVIF = (1+0.035)**14\n",
    "PVIFA2 = (1-(1+0.025)**(-14))/0.025\n",
    "PVIF2 =(1+0.025)**14\n",
    "P_k3 = 55*PVIFA + 1000/PVIF\n",
    "P_k4 = 55*PVIFA2 + 1000/PVIF2\n",
    "print((P_k4 - P_k3)/P_k3)\n",
    "\n",
    "\n"
   ]
  },
  {
   "cell_type": "code",
   "execution_count": 12,
   "metadata": {},
   "outputs": [
    {
     "name": "stdout",
     "output_type": "stream",
     "text": [
      "0.10200058052577829\n"
     ]
    }
   ],
   "source": [
    "#7\n",
    "# PVIFA = (1-(1+r)**(-22))/r\n",
    "# PVIF = (1+r)**22\n",
    "# 930 = (1000*0.054) *PVIFA + 1000/PVIF\n",
    "#r*2 because semiannualpayment  \n",
    "#put yield to mature to here.\n",
    "price = 1013.04\n",
    "par = 1000\n",
    "T = 11\n",
    "coup= 0.104\n",
    "freq = 2\n",
    "periods = T*freq\n",
    "\n",
    "coupon = coup/freq*par\n",
    "ytm_func = lambda ytm :\\\n",
    "sum ([coupon/(1+ ytm/freq)**(i+1) for i in range (periods)]) + par / (1 + ytm/freq)**(periods) - price\n",
    "ytm_7 = optimize.newton(ytm_func, x0=0)\n",
    "coupon_rate = ytm_7\n",
    "print(coupon_rate)\n",
    "\n",
    "#the ytm from old bond is the coupon rate that you want the fv to be 1000. but ytm is semiannual.\n"
   ]
  },
  {
   "cell_type": "code",
   "execution_count": 1,
   "metadata": {},
   "outputs": [
    {
     "name": "stdout",
     "output_type": "stream",
     "text": [
      "1205.3333333333333\n"
     ]
    }
   ],
   "source": [
    "##8\n",
    "#invoice price = dirty price\n",
    "#dirty price - accrued interest =clean price\n",
    "print(1180 + (1000*0.076/2) * (4/6))\n",
    "\n"
   ]
  },
  {
   "cell_type": "code",
   "execution_count": 13,
   "metadata": {},
   "outputs": [
    {
     "name": "stdout",
     "output_type": "stream",
     "text": [
      "3228.52597836484\n"
     ]
    }
   ],
   "source": [
    "#9\n",
    "real_rate = (1.114/1.036)-1\n",
    "\n",
    "EAR_week = ((1+ real_rate)**(1/52))-1 \n",
    "PVIFA = (1-(1/(1+EAR_week))**(52*32))/EAR_week\n",
    "#30 year period\n",
    "PV = 5*PVIFA\n",
    "print(PV)\n",
    "\n",
    "# real_rate = (1.114/1.036)-1\n",
    "\n",
    "# APR_week = ((1+ real_rate)**(1/52))-1 \n",
    "# print(APR_week)\n",
    "# PVIFA = (1-(1/(1+APR_week))**(52*32))/APR_week\n",
    "# #32 year period\n",
    "# PV = 5*PVIFA\n",
    "# print(PV)\n"
   ]
  },
  {
   "cell_type": "code",
   "execution_count": 42,
   "metadata": {},
   "outputs": [],
   "source": [
    "#test\n",
    "# import scipy.optimize as optimize\n",
    "\n",
    "\n",
    "c\n",
    "def bond_ytm(price, par, T, coup, freq=2, guess=0):\n",
    "    freq = float(freq)\n",
    "    periods = T*freq\n",
    "    coupon = coup/100.*par/freq\n",
    "    dt = [(i+1)/freq for i in range(int(periods))]\n",
    "    ytm_func = lambda y: \\\n",
    "        sum([coupon/(1+y/freq)**(freq*t) for t in dt])\\\n",
    "        par/(1+y/freq)**(freq*t) - price\n",
    "        \n",
    "    return optimize.newton(ytm_func, guess)"
   ]
  },
  {
   "cell_type": "code",
   "execution_count": 51,
   "metadata": {},
   "outputs": [
    {
     "ename": "NameError",
     "evalue": "name 'i' is not defined",
     "output_type": "error",
     "traceback": [
      "\u001b[0;31m---------------------------------------------------------------------------\u001b[0m",
      "\u001b[0;31mNameError\u001b[0m                                 Traceback (most recent call last)",
      "\u001b[0;32m<ipython-input-51-cde4766afd44>\u001b[0m in \u001b[0;36m<module>\u001b[0;34m\u001b[0m\n\u001b[1;32m      9\u001b[0m \u001b[0mcoupon\u001b[0m \u001b[0;34m=\u001b[0m \u001b[0mcoup_r\u001b[0m\u001b[0;34m/\u001b[0m\u001b[0;36m100.\u001b[0m\u001b[0;34m*\u001b[0m\u001b[0mpar\u001b[0m\u001b[0;34m/\u001b[0m\u001b[0mfreq\u001b[0m\u001b[0;34m\u001b[0m\u001b[0;34m\u001b[0m\u001b[0m\n\u001b[1;32m     10\u001b[0m \u001b[0mdt\u001b[0m \u001b[0;34m=\u001b[0m \u001b[0;34m[\u001b[0m\u001b[0;34m(\u001b[0m\u001b[0mi\u001b[0m\u001b[0;34m+\u001b[0m\u001b[0;36m1\u001b[0m\u001b[0;34m)\u001b[0m\u001b[0;34m/\u001b[0m\u001b[0mfreq\u001b[0m \u001b[0;32mfor\u001b[0m \u001b[0mi\u001b[0m \u001b[0;32min\u001b[0m \u001b[0mrange\u001b[0m\u001b[0;34m(\u001b[0m\u001b[0mint\u001b[0m\u001b[0;34m(\u001b[0m\u001b[0mperiods\u001b[0m\u001b[0;34m)\u001b[0m\u001b[0;34m)\u001b[0m\u001b[0;34m]\u001b[0m\u001b[0;34m\u001b[0m\u001b[0;34m\u001b[0m\u001b[0m\n\u001b[0;32m---> 11\u001b[0;31m \u001b[0mprint\u001b[0m\u001b[0;34m(\u001b[0m\u001b[0mi\u001b[0m\u001b[0;34m)\u001b[0m\u001b[0;34m\u001b[0m\u001b[0;34m\u001b[0m\u001b[0m\n\u001b[0m\u001b[1;32m     12\u001b[0m \u001b[0;31m# ytm_func = lambda y: \\\u001b[0m\u001b[0;34m\u001b[0m\u001b[0;34m\u001b[0m\u001b[0;34m\u001b[0m\u001b[0m\n\u001b[1;32m     13\u001b[0m \u001b[0;31m# sum([coupon/(1+y/freq)**(freq*t) for t in dt])\\\u001b[0m\u001b[0;34m\u001b[0m\u001b[0;34m\u001b[0m\u001b[0;34m\u001b[0m\u001b[0m\n",
      "\u001b[0;31mNameError\u001b[0m: name 'i' is not defined"
     ]
    }
   ],
   "source": [
    "\n",
    "# price =850\n",
    "# par = 1000\n",
    "# T = 19\n",
    "# coup_r = 0.09\n",
    "# freq = 2.0\n",
    "\n",
    "# periods = T*freq\n",
    "# coupon = coup_r/100.*par/freq\n",
    "# dt = [(i+1)/freq for i in range(int(periods))]\n",
    "\n",
    "# ytm_func = lambda y: \\\n",
    "# sum([coupon/(1+y/freq)**(freq*t) for t in dt])\\\n",
    "# par/(1+y/freq)**(freq*t) - price\n",
    "# optimize.newton(ytm_func, guess)\n",
    "# from scipy import optimize\n",
    "# def ytm (coupon, par, price, k, time):\n",
    "#     coupon_pmt = coupon * par\n",
    "#     prd = k * time\n",
    "#     function = lambda y :\\\n",
    "#     sum ([coupon_pmt/(1+ y/k)**i for i in range (1,prd + 1)]) + par / (1 + y/k)**prd - price\n",
    "#     variable = optimize.newton (function, x0 = 0)\n",
    "#     print(variable)\n"
   ]
  },
  {
   "cell_type": "code",
   "execution_count": 117,
   "metadata": {},
   "outputs": [
    {
     "data": {
      "text/plain": [
       "0.11159958017014464"
      ]
     },
     "execution_count": 117,
     "metadata": {},
     "output_type": "execute_result"
    }
   ],
   "source": []
  },
  {
   "cell_type": "code",
   "execution_count": 108,
   "metadata": {},
   "outputs": [],
   "source": []
  },
  {
   "cell_type": "code",
   "execution_count": null,
   "metadata": {},
   "outputs": [],
   "source": []
  }
 ],
 "metadata": {
  "kernelspec": {
   "display_name": "Python 3",
   "language": "python",
   "name": "python3"
  },
  "language_info": {
   "codemirror_mode": {
    "name": "ipython",
    "version": 3
   },
   "file_extension": ".py",
   "mimetype": "text/x-python",
   "name": "python",
   "nbconvert_exporter": "python",
   "pygments_lexer": "ipython3",
   "version": "3.7.3"
  }
 },
 "nbformat": 4,
 "nbformat_minor": 2
}
