{
 "cells": [
  {
   "cell_type": "code",
   "execution_count": null,
   "metadata": {},
   "outputs": [],
   "source": [
    "#期中考\n",
    "result = input()\n",
    "result = result.split(\" \")\n",
    "sum_all = (int(result[1]) + int(result[2]) + int(result[3]))/1\n",
    "avg = sum_all/3\n",
    "name = result[0]\n",
    "\n",
    "print(\"{} total: {} average: {}\".format(name,sum_all,avg))\n"
   ]
  },
  {
   "cell_type": "code",
   "execution_count": 8,
   "metadata": {},
   "outputs": [
    {
     "name": "stdout",
     "output_type": "stream",
     "text": [
      "p o\n",
      "30\n",
      "p o needs to pay 33 dollars\n"
     ]
    }
   ],
   "source": [
    "#燒烤店\n",
    "name = input()\n",
    "lastname = name.split(\" \")\n",
    "payment = int(input())*1.1\n",
    "payment = round(payment) \n",
    "if payment//200 == 0:\n",
    "    print(\"{} needs to pay {} dollars\".format(lastname[1],payment))\n",
    "else:\n",
    "    payment = payment - ((payment//200)*10)\n",
    "    print(\"{} needs to pay {} dollars\".format(lastname[1],payment))\n"
   ]
  },
  {
   "cell_type": "code",
   "execution_count": null,
   "metadata": {},
   "outputs": [],
   "source": [
    "#DNA code\n",
    "DNA = input().split(\" \")\n",
    "DNA = \"-\".join(DNA).replace(\"T\",\"U\")\n",
    "print(DNA)\n",
    "\n",
    "        "
   ]
  },
  {
   "cell_type": "code",
   "execution_count": null,
   "metadata": {},
   "outputs": [],
   "source": [
    "from pandas import DataFrame \n",
    "players=['Jordan Bell','Klay Thompson','Kevin Durant','JaVale McGee','Draymond Green','Andre Iguodala','David West',\\\n",
    "\n",
    "'Shaun Livingston','Quinn Cook','Kevon Looney','Nick Young','Damian Jones','Stephen Curry','Patrick McCaw',\\\n",
    "\n",
    "'Zaza Pachulia']\n",
    "\n",
    "\n",
    "DataFrame.sample(players,replace = True, 3)\n",
    "#without replace"
   ]
  },
  {
   "cell_type": "code",
   "execution_count": 1,
   "metadata": {},
   "outputs": [
    {
     "name": "stdout",
     "output_type": "stream",
     "text": [
      "858\n",
      "['Quinn Cook', 'Zaza Pachulia', 'Klay Thompson', 'Andre Iguodala', 'Kevin Durant']\n",
      "止步西決\n"
     ]
    }
   ],
   "source": [
    "import random\n",
    "players=['Jordan Bell','Klay Thompson','Kevin Durant','JaVale McGee','Draymond Green','Andre Iguodala','David West',\\\n",
    "\n",
    "'Shaun Livingston','Quinn Cook','Kevon Looney','Nick Young','Damian Jones','Stephen Curry','Patrick McCaw',\\\n",
    "\n",
    "'Zaza Pachulia']\n",
    "star = set(['Kevin Durant','Draymond Green','Stephen Curry','Klay Thompson'])\n",
    "result = [\"提早放假\" ,\"止步西決\",\"勇士亡朝\",\"勇士王朝\"]\n",
    "seed = int(input())\n",
    "#seed use when you want to interact with user.\n",
    "random.seed(seed)\n",
    "abc1 = random.sample(players,5)\n",
    "abc = set(abc1)\n",
    "\n",
    "print(abc1)\n",
    "if \"Patrick McCaw\" in abc or len(star&abc) == 0:\n",
    "    print(\"一輪遊\")\n",
    "else:\n",
    "    count = len(star&abc)-1\n",
    "    print(result[count])\n",
    "    \n",
    "#858\n",
    "#656"
   ]
  },
  {
   "cell_type": "code",
   "execution_count": 1,
   "metadata": {},
   "outputs": [
    {
     "name": "stdout",
     "output_type": "stream",
     "text": [
      "The invoice price is 1205.333\n"
     ]
    }
   ],
   "source": [
    "clean_price = 1180\n",
    "par = 1000\n",
    "accured_interest = ((par * 0.076) / 2) * (4/6)\n",
    "invoice_price = clean_price + accured_interest\n",
    "print(\"The invoice price is %.3f\" %invoice_price)"
   ]
  },
  {
   "cell_type": "code",
   "execution_count": null,
   "metadata": {},
   "outputs": [],
   "source": []
  }
 ],
 "metadata": {
  "kernelspec": {
   "display_name": "Python 3",
   "language": "python",
   "name": "python3"
  },
  "language_info": {
   "codemirror_mode": {
    "name": "ipython",
    "version": 3
   },
   "file_extension": ".py",
   "mimetype": "text/x-python",
   "name": "python",
   "nbconvert_exporter": "python",
   "pygments_lexer": "ipython3",
   "version": "3.7.3"
  }
 },
 "nbformat": 4,
 "nbformat_minor": 2
}
