{
 "cells": [
  {
   "cell_type": "code",
   "execution_count": 60,
   "metadata": {},
   "outputs": [
    {
     "name": "stdout",
     "output_type": "stream",
     "text": [
      "2\n",
      "['0', '0']\n",
      "['1', '1']\n",
      "['2', '4']\n",
      "['3', '9']\n"
     ]
    }
   ],
   "source": [
    "#try lambda\n",
    "#fib\n",
    "fib = []\n",
    "dt = int(input())\n",
    "\n",
    "abc = lambda  b:\\\n",
    "[b**(N+1) for N in range(dt)]\n",
    "#abc(2,3)\n",
    "#用range 印出,這也說明這種簡寫迴圈怎麼iterate\n",
    "for i in list(map(abc,range(4))):\n",
    "    #帶入b,跑4行\n",
    "    #b**(1,2,3,4,5),then * (i in list 0,1,2,3 take in b)\n",
    "    i= list(map(str,i))\n",
    "    print(i)\n",
    "\n",
    "#lambda 用在有未知數時\n"
   ]
  },
  {
   "cell_type": "code",
   "execution_count": 2,
   "metadata": {},
   "outputs": [
    {
     "data": {
      "text/plain": [
       "(1, 2, 3, 4)"
      ]
     },
     "execution_count": 2,
     "metadata": {},
     "output_type": "execute_result"
    }
   ],
   "source": [
    "def gg (*args) :\n",
    "    lambda args: args*3\n",
    "    return args\n",
    "gg(1,2,3,4)\n",
    "#need a loop to iterlate arg"
   ]
  },
  {
   "cell_type": "code",
   "execution_count": 3,
   "metadata": {},
   "outputs": [
    {
     "name": "stdout",
     "output_type": "stream",
     "text": [
      "2\n",
      "6\n",
      "4\n",
      "20\n"
     ]
    }
   ],
   "source": [
    "def multiply(*args):\n",
    "    z = 1\n",
    "    for num in args:\n",
    "        \n",
    "        z *= num\n",
    "        print(z)\n",
    "        \n",
    "multiply(2,3)\n",
    "#z=1 ,num=4 -> z =4 \n",
    "#again z=4, num =5 \n",
    "#總結,arg只是一個list,還是需要設計一個迴圈讓裡面的數字跑.\n",
    "\n",
    "#multiply(4, 5)\n",
    "#arg是list , z帶入aug, 就能分ㄅㄝ\n",
    "# multiply(10, 9)\n",
    "# multiply(2, 3, 4)\n",
    "# multiply(3, 5, 10, 6)\n",
    "\n"
   ]
  },
  {
   "cell_type": "code",
   "execution_count": null,
   "metadata": {},
   "outputs": [],
   "source": [
    "data = [{'first':'Guido', 'last':'Van Rossum', 'YOB':1956},\n",
    "        {'first':'Grace', 'last':'Hopper',     'YOB':1906},\n",
    "        {'first':'Alan',  'last':'Turing',     'YOB':1912}]\n",
    "#call that \"value\", make value into the list and sort\n",
    "sorted(data, key=lambda item: item['first'])"
   ]
  },
  {
   "cell_type": "code",
   "execution_count": null,
   "metadata": {},
   "outputs": [],
   "source": [
    "L = [2, 4, 6, 8, 10]\n",
    "for i in range(len(L)):\n",
    "    print(i, L[i])\n",
    "#i default to be loop number, L[i] default to be elements in the list. dont have to use len to count how many words they have\n",
    "for i, val in enumerate(L):\n",
    "    print(i, val)\n",
    "    \n",
    "    "
   ]
  },
  {
   "cell_type": "code",
   "execution_count": 1,
   "metadata": {},
   "outputs": [
    {
     "name": "stdout",
     "output_type": "stream",
     "text": [
      "0 2 4 6 8 "
     ]
    }
   ],
   "source": [
    "# find values up to 10 for which x % 2 is zero\n",
    "#filter 也是跟map一樣,只是 他是回傳true or false 根據使用的funtion filter(A,B)\n",
    "is_even = lambda x: x % 2 == 0\n",
    "for val in filter(is_even, range(10)):\n",
    "    print(val, end=' ')"
   ]
  },
  {
   "cell_type": "code",
   "execution_count": 85,
   "metadata": {},
   "outputs": [
    {
     "name": "stdout",
     "output_type": "stream",
     "text": [
      "0 1 2 3 4 5 6 7 8 9\n",
      "1 2 3 4\n",
      "(1, 'a') (2, 'b') (3, 'c') (4, 'd')\n"
     ]
    }
   ],
   "source": [
    "#+Asterisk\n",
    "print(*range(10))\n",
    "\n",
    "#change data type\n",
    "L1 = (1, 2, 3, 4)\n",
    "L2 = ('a', 'b', 'c', 'd')\n",
    "print(*L1)\n",
    "\n",
    "#zip means iterate together.\n",
    "\n",
    "z = zip(L1, L2)\n",
    "#zip is not a data type, it is an action entails need * \n",
    "print(*z)"
   ]
  },
  {
   "cell_type": "code",
   "execution_count": 86,
   "metadata": {},
   "outputs": [
    {
     "ename": "ValueError",
     "evalue": "not enough values to unpack (expected 2, got 0)",
     "output_type": "error",
     "traceback": [
      "\u001b[0;31m---------------------------------------------------------------------------\u001b[0m",
      "\u001b[0;31mValueError\u001b[0m                                Traceback (most recent call last)",
      "\u001b[0;32m<ipython-input-86-2cd14c54bcc1>\u001b[0m in \u001b[0;36m<module>\u001b[0;34m\u001b[0m\n\u001b[1;32m      1\u001b[0m \u001b[0;34m\u001b[0m\u001b[0m\n\u001b[1;32m      2\u001b[0m \u001b[0;31m#tear apart\u001b[0m\u001b[0;34m\u001b[0m\u001b[0;34m\u001b[0m\u001b[0;34m\u001b[0m\u001b[0m\n\u001b[0;32m----> 3\u001b[0;31m \u001b[0mnew_L1\u001b[0m\u001b[0;34m,\u001b[0m \u001b[0mnew_L2\u001b[0m \u001b[0;34m=\u001b[0m \u001b[0mzip\u001b[0m\u001b[0;34m(\u001b[0m\u001b[0;34m*\u001b[0m\u001b[0mz\u001b[0m\u001b[0;34m)\u001b[0m\u001b[0;34m\u001b[0m\u001b[0;34m\u001b[0m\u001b[0m\n\u001b[0m\u001b[1;32m      4\u001b[0m \u001b[0mprint\u001b[0m\u001b[0;34m(\u001b[0m\u001b[0mnew_L1\u001b[0m\u001b[0;34m,\u001b[0m \u001b[0mnew_L2\u001b[0m\u001b[0;34m)\u001b[0m\u001b[0;34m\u001b[0m\u001b[0;34m\u001b[0m\u001b[0m\n",
      "\u001b[0;31mValueError\u001b[0m: not enough values to unpack (expected 2, got 0)"
     ]
    }
   ],
   "source": [
    "\n",
    "#tear apart\n",
    "new_L1, new_L2 = zip(*z)\n",
    "print(new_L1, new_L2)"
   ]
  },
  {
   "cell_type": "code",
   "execution_count": 92,
   "metadata": {},
   "outputs": [
    {
     "name": "stdout",
     "output_type": "stream",
     "text": [
      "1 2 3 4\n",
      "(1, 'a') (2, 'b') (3, 'c') (4, 'd')\n"
     ]
    },
    {
     "ename": "ValueError",
     "evalue": "not enough values to unpack (expected 2, got 0)",
     "output_type": "error",
     "traceback": [
      "\u001b[0;31m---------------------------------------------------------------------------\u001b[0m",
      "\u001b[0;31mValueError\u001b[0m                                Traceback (most recent call last)",
      "\u001b[0;32m<ipython-input-92-2848d62acb58>\u001b[0m in \u001b[0;36m<module>\u001b[0;34m\u001b[0m\n\u001b[1;32m      5\u001b[0m \u001b[0mprint\u001b[0m\u001b[0;34m(\u001b[0m\u001b[0;34m*\u001b[0m\u001b[0mz\u001b[0m\u001b[0;34m)\u001b[0m\u001b[0;34m\u001b[0m\u001b[0;34m\u001b[0m\u001b[0m\n\u001b[1;32m      6\u001b[0m \u001b[0;34m\u001b[0m\u001b[0m\n\u001b[0;32m----> 7\u001b[0;31m \u001b[0mnew_L1\u001b[0m\u001b[0;34m,\u001b[0m \u001b[0mnew_L2\u001b[0m \u001b[0;34m=\u001b[0m \u001b[0mzip\u001b[0m\u001b[0;34m(\u001b[0m\u001b[0;34m*\u001b[0m\u001b[0mz\u001b[0m\u001b[0;34m)\u001b[0m\u001b[0;34m\u001b[0m\u001b[0;34m\u001b[0m\u001b[0m\n\u001b[0m\u001b[1;32m      8\u001b[0m \u001b[0mprint\u001b[0m\u001b[0;34m(\u001b[0m\u001b[0mnew_L1\u001b[0m\u001b[0;34m,\u001b[0m\u001b[0;34m\"\\n\"\u001b[0m\u001b[0;34m,\u001b[0m\u001b[0mnew_L2\u001b[0m\u001b[0;34m)\u001b[0m\u001b[0;34m\u001b[0m\u001b[0;34m\u001b[0m\u001b[0m\n",
      "\u001b[0;31mValueError\u001b[0m: not enough values to unpack (expected 2, got 0)"
     ]
    }
   ],
   "source": [
    "L1 = (1, 2, 3, 4)\n",
    "L2 = ('a', 'b', 'c', 'd')\n",
    "print(*L1)\n",
    "z = zip(L1, L2)\n",
    "print(*z)\n",
    "#\n",
    "z = zip(L1, L2)\n",
    "#不可少此行,因為一次zip跟range很像,都只能使用一次,不像變數能永久儲存\n",
    "new_L1, new_L2 = zip(*z)\n",
    "print(new_L1,\"\\n\",new_L2)"
   ]
  },
  {
   "cell_type": "code",
   "execution_count": 4,
   "metadata": {},
   "outputs": [
    {
     "ename": "TypeError",
     "evalue": "type function doesn't define __round__ method",
     "output_type": "error",
     "traceback": [
      "\u001b[0;31m---------------------------------------------------------------------------\u001b[0m",
      "\u001b[0;31mTypeError\u001b[0m                                 Traceback (most recent call last)",
      "\u001b[0;32m<ipython-input-4-89060b1022de>\u001b[0m in \u001b[0;36m<module>\u001b[0;34m\u001b[0m\n\u001b[1;32m      1\u001b[0m \u001b[0mabc\u001b[0m \u001b[0;34m=\u001b[0m \u001b[0;32mlambda\u001b[0m  \u001b[0mb\u001b[0m\u001b[0;34m:\u001b[0m\u001b[0;31m\\\u001b[0m\u001b[0;34m\u001b[0m\u001b[0;34m\u001b[0m\u001b[0m\n\u001b[1;32m      2\u001b[0m \u001b[0;34m[\u001b[0m\u001b[0mb\u001b[0m\u001b[0;34m**\u001b[0m\u001b[0;34m(\u001b[0m\u001b[0mN\u001b[0m\u001b[0;34m+\u001b[0m\u001b[0;36m1\u001b[0m\u001b[0;34m)\u001b[0m \u001b[0;32mfor\u001b[0m \u001b[0mN\u001b[0m \u001b[0;32min\u001b[0m \u001b[0mrange\u001b[0m\u001b[0;34m(\u001b[0m\u001b[0;36m2\u001b[0m\u001b[0;34m)\u001b[0m\u001b[0;34m]\u001b[0m\u001b[0;34m\u001b[0m\u001b[0;34m\u001b[0m\u001b[0m\n\u001b[0;32m----> 3\u001b[0;31m \u001b[0mround\u001b[0m\u001b[0;34m(\u001b[0m\u001b[0mabc\u001b[0m\u001b[0;34m)\u001b[0m\u001b[0;34m\u001b[0m\u001b[0;34m\u001b[0m\u001b[0m\n\u001b[0m",
      "\u001b[0;31mTypeError\u001b[0m: type function doesn't define __round__ method"
     ]
    }
   ],
   "source": [
    "abc = lambda  b:\\\n",
    "[b**(N+1) for N in range(2)]\n"
   ]
  },
  {
   "cell_type": "code",
   "execution_count": 49,
   "metadata": {},
   "outputs": [
    {
     "name": "stdout",
     "output_type": "stream",
     "text": [
      "j 10\n"
     ]
    },
    {
     "ename": "KeyError",
     "evalue": "1",
     "output_type": "error",
     "traceback": [
      "\u001b[0;31m---------------------------------------------------------------------------\u001b[0m",
      "\u001b[0;31mKeyError\u001b[0m                                  Traceback (most recent call last)",
      "\u001b[0;32m<ipython-input-49-62206a2e646b>\u001b[0m in \u001b[0;36m<module>\u001b[0;34m\u001b[0m\n\u001b[1;32m     27\u001b[0m             \u001b[0;31m# range(1,10)\u001b[0m\u001b[0;34m\u001b[0m\u001b[0;34m\u001b[0m\u001b[0;34m\u001b[0m\u001b[0m\n\u001b[1;32m     28\u001b[0m \u001b[0;34m\u001b[0m\u001b[0m\n\u001b[0;32m---> 29\u001b[0;31m \u001b[0mprint\u001b[0m\u001b[0;34m(\u001b[0m\u001b[0mdictA\u001b[0m\u001b[0;34m[\u001b[0m\u001b[0mi\u001b[0m\u001b[0;34m]\u001b[0m\u001b[0;34m)\u001b[0m\u001b[0;34m\u001b[0m\u001b[0;34m\u001b[0m\u001b[0m\n\u001b[0m\u001b[1;32m     30\u001b[0m     \u001b[0;31m# while\u001b[0m\u001b[0;34m\u001b[0m\u001b[0;34m\u001b[0m\u001b[0;34m\u001b[0m\u001b[0m\n\u001b[1;32m     31\u001b[0m \u001b[0;34m\u001b[0m\u001b[0m\n",
      "\u001b[0;31mKeyError\u001b[0m: 1"
     ]
    }
   ],
   "source": [
    "#聰明的機器人\n",
    "count =0\n",
    "dictA = {}\n",
    "for j in range(1,10):\n",
    "        #問勞倫斯,無限創造list方法\n",
    "    A = input().split(\" \")\n",
    "    if A[0] == []:\n",
    "        print(\"Name\\tAge\")\n",
    "        for i in range(1,count):\n",
    "            print(dictA[i])\n",
    "            break\n",
    "    dictA[j]  =\"{}\\t{}\".format(A[0],A[1])\n",
    "    count += 1\n",
    "    try:\n",
    "        \n",
    "        if A[0].isdigit() == True :\n",
    "            dictA[j]  =\"{}\\t{}\".format(A[1],A[0])\n",
    "            A[0]/\"K\"\n",
    "                \n",
    "                #print(\"{}\\t{}\".format(A[0],A[1]))\n",
    "    except:\n",
    "        print(\"Failed to convert string to integer while reading {}'s input.\".format(A[1]))\n",
    "\n",
    "        \n",
    "            \n",
    "            # range(1,10)\n",
    "            \n",
    "print(dictA[i])\n",
    "    # while \n",
    "        "
   ]
  },
  {
   "cell_type": "code",
   "execution_count": 25,
   "metadata": {},
   "outputs": [
    {
     "name": "stdout",
     "output_type": "stream",
     "text": [
      "\n",
      "1\n",
      "\n",
      "2\n",
      "\n",
      "3\n",
      "\n",
      "4\n",
      "\n",
      "5\n",
      "\n",
      "6\n",
      "\n",
      "7\n",
      "\n",
      "8\n",
      "\n",
      "9\n"
     ]
    }
   ],
   "source": [
    "for j in range(1,10):\n",
    "    k = input().split(\" \")\n",
    "    print(j)\n",
    "    if not k :\n",
    "        break\n",
    "        \n",
    "        \n",
    "        if A[0] == '':\n",
    "            print(\"Name\\tAge\")\n",
    "            for i in range(1,count+1):\n",
    "                print(dictA[i])\n",
    "                break"
   ]
  },
  {
   "cell_type": "code",
   "execution_count": 61,
   "metadata": {},
   "outputs": [
    {
     "name": "stdout",
     "output_type": "stream",
     "text": [
      "1 10\n"
     ]
    }
   ],
   "source": [
    "k[0] = input().split()\n",
    "\n",
    "w = \"rrrrr\"\n",
    "if k[0] == []:\n",
    "    print(w)"
   ]
  },
  {
   "cell_type": "code",
   "execution_count": 53,
   "metadata": {},
   "outputs": [
    {
     "data": {
      "text/plain": [
       "[]"
      ]
     },
     "execution_count": 53,
     "metadata": {},
     "output_type": "execute_result"
    }
   ],
   "source": [
    "k[0]"
   ]
  },
  {
   "cell_type": "code",
   "execution_count": 6,
   "metadata": {},
   "outputs": [
    {
     "name": "stdout",
     "output_type": "stream",
     "text": [
      "AA 12\n",
      "12 BB\n",
      "Failed to convert string to integer while reading BB's input.\n",
      "51 VV\n",
      "Failed to convert string to integer while reading VV's input.\n",
      "\n",
      "Failed to convert string to integer while reading BB's input.\n",
      "Failed to convert string to integer while reading VV's input.\n",
      "Name\tAge\n",
      "AA\t12\n",
      "BB\t12\n",
      "VV\t51\n"
     ]
    }
   ],
   "source": [
    "#聰明的機器人\n",
    "count =0\n",
    "dictA = {}\n",
    "dictB = {}\n",
    "error = 0\n",
    "for j in range(1,10):\n",
    "        #問勞倫斯,無限創造list方法\n",
    "    A = input().split(\" \")\n",
    "    count += 1\n",
    "    if A == ['']:\n",
    "    #if not A 不行, split 會出現[''],非[],will false\n",
    "            for k in range(1,error+1):\n",
    "                print(dictB[k])\n",
    "            print(\"Name\\tAge\")\n",
    "            for i in range(1,count):\n",
    "                print(dictA[i])\n",
    "            break\n",
    "    \n",
    "    try:\n",
    "        \n",
    "        if A[0].isdigit() == True :\n",
    "            dictA[j]  =\"{}\\t{}\".format(A[1],A[0])\n",
    "            A[0]/\"K\"\n",
    "        else:\n",
    "            dictA[j]  =\"{}\\t{}\".format(A[0],A[1])\n",
    "\n",
    "                #print(\"{}\\t{}\".format(A[0],A[1]))\n",
    "    except:\n",
    "        print(\"Failed to convert string to integer while reading {}'s input.\".format(A[1]))\n",
    "        error += 1\n",
    "        dictB[error] =  \"Failed to convert string to integer while reading {}'s input.\".format(A[1])"
   ]
  },
  {
   "cell_type": "code",
   "execution_count": null,
   "metadata": {},
   "outputs": [],
   "source": []
  }
 ],
 "metadata": {
  "kernelspec": {
   "display_name": "Python 3",
   "language": "python",
   "name": "python3"
  },
  "language_info": {
   "codemirror_mode": {
    "name": "ipython",
    "version": 3
   },
   "file_extension": ".py",
   "mimetype": "text/x-python",
   "name": "python",
   "nbconvert_exporter": "python",
   "pygments_lexer": "ipython3",
   "version": "3.7.3"
  }
 },
 "nbformat": 4,
 "nbformat_minor": 2
}
